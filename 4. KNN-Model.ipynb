{
 "cells": [
  {
   "cell_type": "code",
   "execution_count": 1,
   "metadata": {},
   "outputs": [],
   "source": [
    "import pandas as pd\n",
    "import numpy as np\n",
    "import matplotlib.pyplot as plt\n",
    "import seaborn as sns"
   ]
  },
  {
   "cell_type": "code",
   "execution_count": 2,
   "metadata": {},
   "outputs": [],
   "source": [
    "import warnings\n",
    "warnings.filterwarnings('ignore')"
   ]
  },
  {
   "cell_type": "code",
   "execution_count": 3,
   "metadata": {},
   "outputs": [
    {
     "data": {
      "text/html": [
       "<div>\n",
       "<style scoped>\n",
       "    .dataframe tbody tr th:only-of-type {\n",
       "        vertical-align: middle;\n",
       "    }\n",
       "\n",
       "    .dataframe tbody tr th {\n",
       "        vertical-align: top;\n",
       "    }\n",
       "\n",
       "    .dataframe thead th {\n",
       "        text-align: right;\n",
       "    }\n",
       "</style>\n",
       "<table border=\"1\" class=\"dataframe\">\n",
       "  <thead>\n",
       "    <tr style=\"text-align: right;\">\n",
       "      <th></th>\n",
       "      <th>PriorDefault_t</th>\n",
       "      <th>YearsEmployed</th>\n",
       "      <th>CreditScore</th>\n",
       "      <th>Income</th>\n",
       "      <th>Approved</th>\n",
       "    </tr>\n",
       "  </thead>\n",
       "  <tbody>\n",
       "    <tr>\n",
       "      <th>0</th>\n",
       "      <td>1</td>\n",
       "      <td>1.25</td>\n",
       "      <td>1</td>\n",
       "      <td>321.692754</td>\n",
       "      <td>1</td>\n",
       "    </tr>\n",
       "    <tr>\n",
       "      <th>1</th>\n",
       "      <td>1</td>\n",
       "      <td>3.04</td>\n",
       "      <td>6</td>\n",
       "      <td>560.000000</td>\n",
       "      <td>1</td>\n",
       "    </tr>\n",
       "    <tr>\n",
       "      <th>2</th>\n",
       "      <td>1</td>\n",
       "      <td>1.50</td>\n",
       "      <td>0</td>\n",
       "      <td>824.000000</td>\n",
       "      <td>1</td>\n",
       "    </tr>\n",
       "    <tr>\n",
       "      <th>3</th>\n",
       "      <td>1</td>\n",
       "      <td>3.75</td>\n",
       "      <td>5</td>\n",
       "      <td>3.000000</td>\n",
       "      <td>1</td>\n",
       "    </tr>\n",
       "    <tr>\n",
       "      <th>4</th>\n",
       "      <td>1</td>\n",
       "      <td>1.71</td>\n",
       "      <td>0</td>\n",
       "      <td>321.692754</td>\n",
       "      <td>1</td>\n",
       "    </tr>\n",
       "  </tbody>\n",
       "</table>\n",
       "</div>"
      ],
      "text/plain": [
       "   PriorDefault_t  YearsEmployed  CreditScore      Income  Approved\n",
       "0               1           1.25            1  321.692754         1\n",
       "1               1           3.04            6  560.000000         1\n",
       "2               1           1.50            0  824.000000         1\n",
       "3               1           3.75            5    3.000000         1\n",
       "4               1           1.71            0  321.692754         1"
      ]
     },
     "execution_count": 3,
     "metadata": {},
     "output_type": "execute_result"
    }
   ],
   "source": [
    "df=pd.read_csv('feature_Selection.csv')\n",
    "df.head()"
   ]
  },
  {
   "cell_type": "code",
   "execution_count": 4,
   "metadata": {},
   "outputs": [],
   "source": [
    "from sklearn.preprocessing import StandardScaler\n",
    "\n",
    "scaler = StandardScaler()\n",
    "scaled_features = scaler.fit_transform(df.drop('Approved',axis=1))"
   ]
  },
  {
   "cell_type": "code",
   "execution_count": 5,
   "metadata": {},
   "outputs": [
    {
     "data": {
      "text/html": [
       "<div>\n",
       "<style scoped>\n",
       "    .dataframe tbody tr th:only-of-type {\n",
       "        vertical-align: middle;\n",
       "    }\n",
       "\n",
       "    .dataframe tbody tr th {\n",
       "        vertical-align: top;\n",
       "    }\n",
       "\n",
       "    .dataframe thead th {\n",
       "        text-align: right;\n",
       "    }\n",
       "</style>\n",
       "<table border=\"1\" class=\"dataframe\">\n",
       "  <thead>\n",
       "    <tr style=\"text-align: right;\">\n",
       "      <th></th>\n",
       "      <th>PriorDefault_t</th>\n",
       "      <th>YearsEmployed</th>\n",
       "      <th>CreditScore</th>\n",
       "      <th>Income</th>\n",
       "    </tr>\n",
       "  </thead>\n",
       "  <tbody>\n",
       "    <tr>\n",
       "      <th>0</th>\n",
       "      <td>0.95465</td>\n",
       "      <td>-0.300502</td>\n",
       "      <td>-0.324711</td>\n",
       "      <td>-0.288910</td>\n",
       "    </tr>\n",
       "    <tr>\n",
       "      <th>1</th>\n",
       "      <td>0.95465</td>\n",
       "      <td>0.379591</td>\n",
       "      <td>1.079116</td>\n",
       "      <td>0.211684</td>\n",
       "    </tr>\n",
       "    <tr>\n",
       "      <th>2</th>\n",
       "      <td>0.95465</td>\n",
       "      <td>-0.205517</td>\n",
       "      <td>-0.605477</td>\n",
       "      <td>0.766248</td>\n",
       "    </tr>\n",
       "    <tr>\n",
       "      <th>3</th>\n",
       "      <td>0.95465</td>\n",
       "      <td>0.649348</td>\n",
       "      <td>0.798351</td>\n",
       "      <td>-0.958363</td>\n",
       "    </tr>\n",
       "    <tr>\n",
       "      <th>4</th>\n",
       "      <td>0.95465</td>\n",
       "      <td>-0.125730</td>\n",
       "      <td>-0.605477</td>\n",
       "      <td>-0.288910</td>\n",
       "    </tr>\n",
       "  </tbody>\n",
       "</table>\n",
       "</div>"
      ],
      "text/plain": [
       "   PriorDefault_t  YearsEmployed  CreditScore    Income\n",
       "0         0.95465      -0.300502    -0.324711 -0.288910\n",
       "1         0.95465       0.379591     1.079116  0.211684\n",
       "2         0.95465      -0.205517    -0.605477  0.766248\n",
       "3         0.95465       0.649348     0.798351 -0.958363\n",
       "4         0.95465      -0.125730    -0.605477 -0.288910"
      ]
     },
     "execution_count": 5,
     "metadata": {},
     "output_type": "execute_result"
    }
   ],
   "source": [
    "df_feat = pd.DataFrame(scaled_features,columns=df.columns[:-1])\n",
    "df_feat.head()"
   ]
  },
  {
   "cell_type": "code",
   "execution_count": 6,
   "metadata": {},
   "outputs": [],
   "source": [
    "#### Train Test Split\n",
    "from sklearn.model_selection import train_test_split\n",
    "X_train,X_test,y_train,y_test=train_test_split(scaled_features,df['Approved'],test_size=0.20,random_state=10)"
   ]
  },
  {
   "cell_type": "code",
   "execution_count": 7,
   "metadata": {},
   "outputs": [
    {
     "data": {
      "text/plain": [
       "(138,)"
      ]
     },
     "execution_count": 7,
     "metadata": {},
     "output_type": "execute_result"
    }
   ],
   "source": [
    "y_test.shape"
   ]
  },
  {
   "cell_type": "code",
   "execution_count": 8,
   "metadata": {},
   "outputs": [
    {
     "data": {
      "text/plain": [
       "0    70\n",
       "1    68\n",
       "Name: Approved, dtype: int64"
      ]
     },
     "execution_count": 8,
     "metadata": {},
     "output_type": "execute_result"
    }
   ],
   "source": [
    "y_test.value_counts()"
   ]
  },
  {
   "cell_type": "code",
   "execution_count": 9,
   "metadata": {},
   "outputs": [
    {
     "data": {
      "text/plain": [
       "0    313\n",
       "1    239\n",
       "Name: Approved, dtype: int64"
      ]
     },
     "execution_count": 9,
     "metadata": {},
     "output_type": "execute_result"
    }
   ],
   "source": [
    "y_train.value_counts()"
   ]
  },
  {
   "cell_type": "code",
   "execution_count": 10,
   "metadata": {},
   "outputs": [],
   "source": [
    "from sklearn.neighbors import KNeighborsClassifier\n",
    "knn_classifier=KNeighborsClassifier(n_neighbors=1).fit(X_train,y_train)\n",
    "prediction=knn_classifier.predict(X_test)"
   ]
  },
  {
   "cell_type": "code",
   "execution_count": 11,
   "metadata": {},
   "outputs": [
    {
     "name": "stdout",
     "output_type": "stream",
     "text": [
      "confusion matrix : [[58 12]\n",
      " [19 49]]\n",
      "Accuracy Score : 0.7753623188405797\n",
      "              precision    recall  f1-score   support\n",
      "\n",
      "           0       0.75      0.83      0.79        70\n",
      "           1       0.80      0.72      0.76        68\n",
      "\n",
      "    accuracy                           0.78       138\n",
      "   macro avg       0.78      0.77      0.77       138\n",
      "weighted avg       0.78      0.78      0.77       138\n",
      "\n"
     ]
    }
   ],
   "source": [
    "from sklearn.metrics import confusion_matrix,classification_report,accuracy_score,roc_curve, roc_auc_score\n",
    "print(f'confusion matrix : {confusion_matrix(y_test,prediction)}')\n",
    "print(f'Accuracy Score : {accuracy_score(y_test,prediction)}')\n",
    "print(classification_report(y_test,prediction))"
   ]
  },
  {
   "cell_type": "code",
   "execution_count": 12,
   "metadata": {},
   "outputs": [
    {
     "data": {
      "text/plain": [
       "0    70\n",
       "1    68\n",
       "Name: Approved, dtype: int64"
      ]
     },
     "execution_count": 12,
     "metadata": {},
     "output_type": "execute_result"
    }
   ],
   "source": [
    "y_test.value_counts()"
   ]
  },
  {
   "cell_type": "code",
   "execution_count": 13,
   "metadata": {},
   "outputs": [
    {
     "data": {
      "text/plain": [
       "0.7745798319327731"
      ]
     },
     "execution_count": 13,
     "metadata": {},
     "output_type": "execute_result"
    }
   ],
   "source": [
    "auc = roc_auc_score(y_test, prediction)\n",
    "auc"
   ]
  },
  {
   "cell_type": "code",
   "execution_count": 14,
   "metadata": {},
   "outputs": [],
   "source": [
    "fpr, tpr, thresholds = roc_curve(y_test, prediction)"
   ]
  },
  {
   "cell_type": "code",
   "execution_count": 15,
   "metadata": {},
   "outputs": [
    {
     "data": {
      "image/png": "[encoded data removed]",
      "text/plain": [
       "<Figure size 432x288 with 1 Axes>"
      ]
     },
     "metadata": {
      "needs_background": "light"
     },
     "output_type": "display_data"
    }
   ],
   "source": [
    "plt.plot(fpr, tpr, color='orange', label='ROC')\n",
    "plt.plot([0, 1], [0, 1], color='darkblue', linestyle='--',label='ROC curve (area = %0.2f)' % auc)\n",
    "plt.xlabel('False Positive Rate')\n",
    "plt.ylabel('True Positive Rate')\n",
    "plt.title('Receiver Operating Characteristic (ROC) Curve for Naive Bayes')\n",
    "plt.legend()\n",
    "plt.show()"
   ]
  },
  {
   "cell_type": "code",
   "execution_count": 16,
   "metadata": {},
   "outputs": [],
   "source": [
    "from sklearn.model_selection import RandomizedSearchCV\n",
    "random_grid = { 'algorithm' : ['ball_tree', 'kd_tree', 'brute'],\n",
    "               'leaf_size' : [18,20,25,27,30,32,34],\n",
    "               'n_neighbors' : [3,5,7,9,10,11,12,13]\n",
    "              }"
   ]
  },
  {
   "cell_type": "code",
   "execution_count": 17,
   "metadata": {},
   "outputs": [],
   "source": [
    "# Use the random grid to search for best hyperparameters\n",
    "# First create the base model to tune\n",
    "Classifier=KNeighborsClassifier()"
   ]
  },
  {
   "cell_type": "code",
   "execution_count": 18,
   "metadata": {},
   "outputs": [],
   "source": [
    "# Random search of parameters, using 5 fold cross validation, \n",
    "# search across 100 different combinations\n",
    "knn_random = RandomizedSearchCV(estimator = Classifier, param_distributions = random_grid, cv = 5, verbose=2)"
   ]
  },
  {
   "cell_type": "code",
   "execution_count": 19,
   "metadata": {},
   "outputs": [
    {
     "name": "stdout",
     "output_type": "stream",
     "text": [
      "Fitting 5 folds for each of 10 candidates, totalling 50 fits\n",
      "[CV] END .......algorithm=brute, leaf_size=32, n_neighbors=9; total time=   0.0s\n",
      "[CV] END .......algorithm=brute, leaf_size=32, n_neighbors=9; total time=   0.0s\n",
      "[CV] END .......algorithm=brute, leaf_size=32, n_neighbors=9; total time=   0.0s\n",
      "[CV] END .......algorithm=brute, leaf_size=32, n_neighbors=9; total time=   0.0s\n",
      "[CV] END .......algorithm=brute, leaf_size=32, n_neighbors=9; total time=   0.0s\n",
      "[CV] END ..algorithm=ball_tree, leaf_size=32, n_neighbors=12; total time=   0.0s\n",
      "[CV] END ..algorithm=ball_tree, leaf_size=32, n_neighbors=12; total time=   0.0s\n",
      "[CV] END ..algorithm=ball_tree, leaf_size=32, n_neighbors=12; total time=   0.0s\n",
      "[CV] END ..algorithm=ball_tree, leaf_size=32, n_neighbors=12; total time=   0.0s\n",
      "[CV] END ..algorithm=ball_tree, leaf_size=32, n_neighbors=12; total time=   0.0s\n",
      "[CV] END .....algorithm=kd_tree, leaf_size=27, n_neighbors=9; total time=   0.0s\n",
      "[CV] END .....algorithm=kd_tree, leaf_size=27, n_neighbors=9; total time=   0.0s\n",
      "[CV] END .....algorithm=kd_tree, leaf_size=27, n_neighbors=9; total time=   0.0s\n",
      "[CV] END .....algorithm=kd_tree, leaf_size=27, n_neighbors=9; total time=   0.0s\n",
      "[CV] END .....algorithm=kd_tree, leaf_size=27, n_neighbors=9; total time=   0.0s\n",
      "[CV] END ...algorithm=ball_tree, leaf_size=32, n_neighbors=3; total time=   0.0s\n",
      "[CV] END ...algorithm=ball_tree, leaf_size=32, n_neighbors=3; total time=   0.0s\n",
      "[CV] END ...algorithm=ball_tree, leaf_size=32, n_neighbors=3; total time=   0.0s\n",
      "[CV] END ...algorithm=ball_tree, leaf_size=32, n_neighbors=3; total time=   0.0s\n",
      "[CV] END ...algorithm=ball_tree, leaf_size=32, n_neighbors=3; total time=   0.0s\n",
      "[CV] END ......algorithm=brute, leaf_size=25, n_neighbors=11; total time=   0.0s\n",
      "[CV] END ......algorithm=brute, leaf_size=25, n_neighbors=11; total time=   0.0s\n",
      "[CV] END ......algorithm=brute, leaf_size=25, n_neighbors=11; total time=   0.0s\n",
      "[CV] END ......algorithm=brute, leaf_size=25, n_neighbors=11; total time=   0.0s\n",
      "[CV] END ......algorithm=brute, leaf_size=25, n_neighbors=11; total time=   0.0s\n",
      "[CV] END ...algorithm=ball_tree, leaf_size=20, n_neighbors=9; total time=   0.0s\n",
      "[CV] END ...algorithm=ball_tree, leaf_size=20, n_neighbors=9; total time=   0.0s\n",
      "[CV] END ...algorithm=ball_tree, leaf_size=20, n_neighbors=9; total time=   0.0s\n",
      "[CV] END ...algorithm=ball_tree, leaf_size=20, n_neighbors=9; total time=   0.0s\n",
      "[CV] END ...algorithm=ball_tree, leaf_size=20, n_neighbors=9; total time=   0.0s\n",
      "[CV] END ..algorithm=ball_tree, leaf_size=27, n_neighbors=12; total time=   0.0s\n",
      "[CV] END ..algorithm=ball_tree, leaf_size=27, n_neighbors=12; total time=   0.0s\n",
      "[CV] END ..algorithm=ball_tree, leaf_size=27, n_neighbors=12; total time=   0.0s\n",
      "[CV] END ..algorithm=ball_tree, leaf_size=27, n_neighbors=12; total time=   0.0s\n",
      "[CV] END ..algorithm=ball_tree, leaf_size=27, n_neighbors=12; total time=   0.0s\n",
      "[CV] END ......algorithm=brute, leaf_size=32, n_neighbors=10; total time=   0.0s\n",
      "[CV] END ......algorithm=brute, leaf_size=32, n_neighbors=10; total time=   0.0s\n",
      "[CV] END ......algorithm=brute, leaf_size=32, n_neighbors=10; total time=   0.0s\n",
      "[CV] END ......algorithm=brute, leaf_size=32, n_neighbors=10; total time=   0.0s\n",
      "[CV] END ......algorithm=brute, leaf_size=32, n_neighbors=10; total time=   0.0s\n",
      "[CV] END ..algorithm=ball_tree, leaf_size=32, n_neighbors=10; total time=   0.0s\n",
      "[CV] END ..algorithm=ball_tree, leaf_size=32, n_neighbors=10; total time=   0.0s\n",
      "[CV] END ..algorithm=ball_tree, leaf_size=32, n_neighbors=10; total time=   0.0s\n",
      "[CV] END ..algorithm=ball_tree, leaf_size=32, n_neighbors=10; total time=   0.0s\n",
      "[CV] END ..algorithm=ball_tree, leaf_size=32, n_neighbors=10; total time=   0.0s\n",
      "[CV] END ......algorithm=brute, leaf_size=34, n_neighbors=13; total time=   0.0s\n",
      "[CV] END ......algorithm=brute, leaf_size=34, n_neighbors=13; total time=   0.0s\n",
      "[CV] END ......algorithm=brute, leaf_size=34, n_neighbors=13; total time=   0.0s\n",
      "[CV] END ......algorithm=brute, leaf_size=34, n_neighbors=13; total time=   0.0s\n",
      "[CV] END ......algorithm=brute, leaf_size=34, n_neighbors=13; total time=   0.0s\n"
     ]
    },
    {
     "data": {
      "text/plain": [
       "RandomizedSearchCV(cv=5, estimator=KNeighborsClassifier(),\n",
       "                   param_distributions={'algorithm': ['ball_tree', 'kd_tree',\n",
       "                                                      'brute'],\n",
       "                                        'leaf_size': [18, 20, 25, 27, 30, 32,\n",
       "                                                      34],\n",
       "                                        'n_neighbors': [3, 5, 7, 9, 10, 11, 12,\n",
       "                                                        13]},\n",
       "                   verbose=2)"
      ]
     },
     "execution_count": 19,
     "metadata": {},
     "output_type": "execute_result"
    }
   ],
   "source": [
    "knn_random.fit(X_train,y_train)"
   ]
  },
  {
   "cell_type": "code",
   "execution_count": 20,
   "metadata": {},
   "outputs": [
    {
     "data": {
      "text/plain": [
       "{'n_neighbors': 13, 'leaf_size': 34, 'algorithm': 'brute'}"
      ]
     },
     "execution_count": 20,
     "metadata": {},
     "output_type": "execute_result"
    }
   ],
   "source": [
    "knn_random.best_params_"
   ]
  },
  {
   "cell_type": "code",
   "execution_count": 21,
   "metadata": {},
   "outputs": [],
   "source": [
    "best_random_grid=knn_random.best_estimator_"
   ]
  },
  {
   "cell_type": "code",
   "execution_count": 22,
   "metadata": {},
   "outputs": [
    {
     "name": "stdout",
     "output_type": "stream",
     "text": [
      "KNeighborsClassifier(algorithm='brute', leaf_size=34, n_neighbors=13)\n"
     ]
    }
   ],
   "source": [
    "print(best_random_grid)"
   ]
  },
  {
   "cell_type": "code",
   "execution_count": 23,
   "metadata": {},
   "outputs": [
    {
     "name": "stdout",
     "output_type": "stream",
     "text": [
      "[[63  7]\n",
      " [13 55]]\n",
      "Accuracy Score 0.855072463768116\n",
      "Classification report:               precision    recall  f1-score   support\n",
      "\n",
      "           0       0.83      0.90      0.86        70\n",
      "           1       0.89      0.81      0.85        68\n",
      "\n",
      "    accuracy                           0.86       138\n",
      "   macro avg       0.86      0.85      0.85       138\n",
      "weighted avg       0.86      0.86      0.85       138\n",
      "\n"
     ]
    }
   ],
   "source": [
    "from sklearn.metrics import accuracy_score,accuracy_score,roc_curve, roc_auc_score\n",
    "y_pred=best_random_grid.predict(X_test)\n",
    "print(confusion_matrix(y_test,y_pred))\n",
    "print(\"Accuracy Score {}\".format(accuracy_score(y_test,y_pred)))\n",
    "print(\"Classification report: {}\".format(classification_report(y_test,y_pred)))"
   ]
  },
  {
   "cell_type": "code",
   "execution_count": 24,
   "metadata": {},
   "outputs": [
    {
     "data": {
      "text/plain": [
       "5"
      ]
     },
     "execution_count": 24,
     "metadata": {},
     "output_type": "execute_result"
    }
   ],
   "source": [
    "#k-fold cross validation\n",
    "from sklearn.model_selection import KFold\n",
    "kfold = KFold(n_splits=5,random_state=None)\n",
    "kfold.get_n_splits(scaled_features)"
   ]
  },
  {
   "cell_type": "code",
   "execution_count": 25,
   "metadata": {},
   "outputs": [
    {
     "name": "stdout",
     "output_type": "stream",
     "text": [
      "for k =  1\n",
      "train_score is :   0.9112318840579711 and test score is :   0.6666666666666666\n",
      "for k =  2\n",
      "train_score is :   0.8713768115942029 and test score is :   0.7463768115942029\n",
      "for k =  3\n",
      "train_score is :   0.8478260869565217 and test score is :   0.9347826086956522\n",
      "for k =  4\n",
      "train_score is :   0.8695652173913043 and test score is :   0.8115942028985508\n",
      "for k =  5\n",
      "train_score is :   0.8605072463768116 and test score is :   0.8840579710144928\n",
      "************************************************\n",
      "************************************************\n",
      "Average train score is :   0.8721014492753624\n",
      "Average test score is :   0.808695652173913\n"
     ]
    }
   ],
   "source": [
    "from statistics import mean\n",
    "knn = KNeighborsClassifier(algorithm = 'brute', leaf_size =18, n_neighbors =10)\n",
    "\n",
    "cnt =0\n",
    "count=[]\n",
    "train_score =[]\n",
    "test_score = []\n",
    "\n",
    "for train_index,test_index in kfold.split(scaled_features):\n",
    "    X_train, X_test = scaled_features[train_index], scaled_features[test_index] # our scaled data is an array so it can work on x[value]\n",
    "    y_train, y_test = df['Approved'].iloc[train_index], df['Approved'].iloc[test_index] # y is a dataframe so we have to use \"iloc\" to retreive data\n",
    "    knn.fit(X_train,y_train)\n",
    "    train_score_ = knn.score(X_train,y_train)\n",
    "    test_score_ =  knn.score(X_test,y_test)\n",
    "    cnt+=1\n",
    "    count.append(cnt)\n",
    "    train_score.append(train_score_)\n",
    "    test_score.append(test_score_)\n",
    "    \n",
    "    print(\"for k = \", cnt)\n",
    "    print(\"train_score is :  \", train_score_, \"and test score is :  \", test_score_)\n",
    "print(\"************************************************\")\n",
    "print(\"************************************************\")\n",
    "print(\"Average train score is :  \", mean(train_score))\n",
    "print(\"Average test score is :  \", mean(test_score))"
   ]
  },
  {
   "cell_type": "code",
   "execution_count": 26,
   "metadata": {},
   "outputs": [
    {
     "data": {
      "text/plain": [
       "([<matplotlib.axis.YTick at 0x1ccb9c69048>,\n",
       "  <matplotlib.axis.YTick at 0x1ccb9c69208>,\n",
       "  <matplotlib.axis.YTick at 0x1ccb9c61808>,\n",
       "  <matplotlib.axis.YTick at 0x1ccb9c9aac8>,\n",
       "  <matplotlib.axis.YTick at 0x1ccb9c9d4c8>,\n",
       "  <matplotlib.axis.YTick at 0x1ccb9c9dfc8>,\n",
       "  <matplotlib.axis.YTick at 0x1ccb9ca0bc8>],\n",
       " [Text(0, 0, ''),\n",
       "  Text(0, 0, ''),\n",
       "  Text(0, 0, ''),\n",
       "  Text(0, 0, ''),\n",
       "  Text(0, 0, ''),\n",
       "  Text(0, 0, ''),\n",
       "  Text(0, 0, '')])"
      ]
     },
     "execution_count": 26,
     "metadata": {},
     "output_type": "execute_result"
    },
    {
     "data": {
      "image/png": "[encoded data removed]",
      "text/plain": [
       "<Figure size 432x288 with 1 Axes>"
      ]
     },
     "metadata": {
      "needs_background": "light"
     },
     "output_type": "display_data"
    }
   ],
   "source": [
    "# let's plot the test_accuracy with the value of k in k-fold\n",
    "\n",
    "plt.plot(count,test_score)\n",
    "plt.xlabel('Value of K for k-fold')\n",
    "plt.ylabel('test accuracy')\n",
    "plt.xticks(np.arange(0, 7, 1)) \n",
    "plt.yticks(np.arange(0.65, 1, 0.05))"
   ]
  },
  {
   "cell_type": "code",
   "execution_count": 27,
   "metadata": {},
   "outputs": [
    {
     "data": {
      "text/plain": [
       "0    86\n",
       "1    52\n",
       "Name: Approved, dtype: int64"
      ]
     },
     "execution_count": 27,
     "metadata": {},
     "output_type": "execute_result"
    }
   ],
   "source": [
    "y_test.value_counts()"
   ]
  },
  {
   "cell_type": "code",
   "execution_count": 28,
   "metadata": {},
   "outputs": [
    {
     "data": {
      "text/plain": [
       "(138,)"
      ]
     },
     "execution_count": 28,
     "metadata": {},
     "output_type": "execute_result"
    }
   ],
   "source": [
    "y_test.shape"
   ]
  },
  {
   "cell_type": "code",
   "execution_count": 29,
   "metadata": {
    "scrolled": true
   },
   "outputs": [
    {
     "name": "stdout",
     "output_type": "stream",
     "text": [
      "0.8913043478260869\n",
      "\n",
      "\n",
      "[[85  1]\n",
      " [14 38]]\n",
      "\n",
      "\n",
      "              precision    recall  f1-score   support\n",
      "\n",
      "           0       0.86      0.99      0.92        86\n",
      "           1       0.97      0.73      0.84        52\n",
      "\n",
      "    accuracy                           0.89       138\n",
      "   macro avg       0.92      0.86      0.88       138\n",
      "weighted avg       0.90      0.89      0.89       138\n",
      "\n"
     ]
    }
   ],
   "source": [
    "knn = KNeighborsClassifier(n_neighbors=3)\n",
    "\n",
    "knn.fit(X_train,y_train)\n",
    "pred = knn.predict(X_test)\n",
    "\n",
    "print(accuracy_score(y_test,pred))\n",
    "print('\\n')\n",
    "print(confusion_matrix(y_test,pred))\n",
    "print('\\n')\n",
    "print(classification_report(y_test,pred))"
   ]
  },
  {
   "cell_type": "code",
   "execution_count": 30,
   "metadata": {},
   "outputs": [
    {
     "data": {
      "text/plain": [
       "0.8595706618962433"
      ]
     },
     "execution_count": 30,
     "metadata": {},
     "output_type": "execute_result"
    }
   ],
   "source": [
    "# Area Under Curve\n",
    "auc = roc_auc_score(y_test, pred)\n",
    "auc"
   ]
  },
  {
   "cell_type": "code",
   "execution_count": 31,
   "metadata": {},
   "outputs": [],
   "source": [
    "fpr, tpr, thresholds = roc_curve(y_test, pred)"
   ]
  },
  {
   "cell_type": "code",
   "execution_count": 32,
   "metadata": {},
   "outputs": [
    {
     "data": {
      "image/png": "[encoded data removed]",
      "text/plain": [
       "<Figure size 432x288 with 1 Axes>"
      ]
     },
     "metadata": {
      "needs_background": "light"
     },
     "output_type": "display_data"
    }
   ],
   "source": [
    "plt.plot(fpr, tpr, color='orange', label='ROC')\n",
    "plt.plot([0, 1], [0, 1], color='darkblue', linestyle='--',label='ROC curve (area = %0.2f)' % auc)\n",
    "plt.xlabel('False Positive Rate')\n",
    "plt.ylabel('True Positive Rate')\n",
    "plt.title('Receiver Operating Characteristic (ROC) Curve for Naive Bayes')\n",
    "plt.legend()\n",
    "plt.show()"
   ]
  },
  {
   "cell_type": "code",
   "execution_count": 33,
   "metadata": {},
   "outputs": [],
   "source": [
    "import pickle\n",
    "# save the model to disk\n",
    "filename = 'finalized_model_knn.sav'\n",
    "pickle.dump(knn,open(filename,'wb'))"
   ]
  }
 ],
 "metadata": {
  "kernelspec": {
   "display_name": "Python 3",
   "language": "python",
   "name": "python3"
  },
  "language_info": {
   "codemirror_mode": {
    "name": "ipython",
    "version": 3
   },
   "file_extension": ".py",
   "mimetype": "text/x-python",
   "name": "python",
   "nbconvert_exporter": "python",
   "pygments_lexer": "ipython3",
   "version": "3.7.7"
  }
 },
 "nbformat": 4,
 "nbformat_minor": 4
}
