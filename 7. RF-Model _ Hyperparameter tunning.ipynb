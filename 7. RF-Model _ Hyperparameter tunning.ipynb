{
 "cells": [
  {
   "cell_type": "markdown",
   "metadata": {},
   "source": [
    "## All Techniques Of Hyper Parameter Optimization\n",
    "    1.GridSearchCV\n",
    "    2.RandomizedSearchCV\n",
    "    3.Bayesian Optimization -Automate Hyperparameter Tuning (Hyperopt)\n",
    "    4.Sequential Model Based Optimization(Tuning a scikit-learn estimator with skopt)\n",
    "    5.Optuna- Automate Hyperparameter Tuning\n",
    "    6.Genetic Algorithms (TPOT Classifier)"
   ]
  },
  {
   "cell_type": "code",
   "execution_count": 1,
   "metadata": {},
   "outputs": [],
   "source": [
    "import warnings\n",
    "warnings.filterwarnings('ignore')"
   ]
  },
  {
   "cell_type": "code",
   "execution_count": 2,
   "metadata": {},
   "outputs": [
    {
     "data": {
      "text/html": [
       "<div>\n",
       "<style scoped>\n",
       "    .dataframe tbody tr th:only-of-type {\n",
       "        vertical-align: middle;\n",
       "    }\n",
       "\n",
       "    .dataframe tbody tr th {\n",
       "        vertical-align: top;\n",
       "    }\n",
       "\n",
       "    .dataframe thead th {\n",
       "        text-align: right;\n",
       "    }\n",
       "</style>\n",
       "<table border=\"1\" class=\"dataframe\">\n",
       "  <thead>\n",
       "    <tr style=\"text-align: right;\">\n",
       "      <th></th>\n",
       "      <th>PriorDefault_t</th>\n",
       "      <th>YearsEmployed</th>\n",
       "      <th>CreditScore</th>\n",
       "      <th>Income</th>\n",
       "      <th>Approved</th>\n",
       "    </tr>\n",
       "  </thead>\n",
       "  <tbody>\n",
       "    <tr>\n",
       "      <th>0</th>\n",
       "      <td>1</td>\n",
       "      <td>1.25</td>\n",
       "      <td>1</td>\n",
       "      <td>321.692754</td>\n",
       "      <td>1</td>\n",
       "    </tr>\n",
       "    <tr>\n",
       "      <th>1</th>\n",
       "      <td>1</td>\n",
       "      <td>3.04</td>\n",
       "      <td>6</td>\n",
       "      <td>560.000000</td>\n",
       "      <td>1</td>\n",
       "    </tr>\n",
       "    <tr>\n",
       "      <th>2</th>\n",
       "      <td>1</td>\n",
       "      <td>1.50</td>\n",
       "      <td>0</td>\n",
       "      <td>824.000000</td>\n",
       "      <td>1</td>\n",
       "    </tr>\n",
       "    <tr>\n",
       "      <th>3</th>\n",
       "      <td>1</td>\n",
       "      <td>3.75</td>\n",
       "      <td>5</td>\n",
       "      <td>3.000000</td>\n",
       "      <td>1</td>\n",
       "    </tr>\n",
       "    <tr>\n",
       "      <th>4</th>\n",
       "      <td>1</td>\n",
       "      <td>1.71</td>\n",
       "      <td>0</td>\n",
       "      <td>321.692754</td>\n",
       "      <td>1</td>\n",
       "    </tr>\n",
       "  </tbody>\n",
       "</table>\n",
       "</div>"
      ],
      "text/plain": [
       "   PriorDefault_t  YearsEmployed  CreditScore      Income  Approved\n",
       "0               1           1.25            1  321.692754         1\n",
       "1               1           3.04            6  560.000000         1\n",
       "2               1           1.50            0  824.000000         1\n",
       "3               1           3.75            5    3.000000         1\n",
       "4               1           1.71            0  321.692754         1"
      ]
     },
     "execution_count": 2,
     "metadata": {},
     "output_type": "execute_result"
    }
   ],
   "source": [
    "import pandas as pd\n",
    "df=pd.read_csv('feature_Selection.csv')\n",
    "df.head()"
   ]
  },
  {
   "cell_type": "code",
   "execution_count": 3,
   "metadata": {},
   "outputs": [],
   "source": [
    "#### Independent And Dependent features\n",
    "X=df.drop('Approved',axis=1)\n",
    "y=df['Approved']"
   ]
  },
  {
   "cell_type": "code",
   "execution_count": 4,
   "metadata": {},
   "outputs": [],
   "source": [
    "#### Train Test Split\n",
    "from sklearn.model_selection import train_test_split\n",
    "X_train,X_test,y_train,y_test=train_test_split(X,y,test_size=0.20,random_state=0)"
   ]
  },
  {
   "cell_type": "code",
   "execution_count": 5,
   "metadata": {},
   "outputs": [],
   "source": [
    "from sklearn.ensemble import RandomForestClassifier\n",
    "rf_classifier=RandomForestClassifier(n_estimators=10).fit(X_train,y_train)\n",
    "prediction=rf_classifier.predict(X_test)"
   ]
  },
  {
   "cell_type": "code",
   "execution_count": 6,
   "metadata": {},
   "outputs": [
    {
     "name": "stdout",
     "output_type": "stream",
     "text": [
      "confusion matrix : [[67 11]\n",
      " [14 46]]\n",
      "Accuracy Score : 0.8188405797101449\n",
      "              precision    recall  f1-score   support\n",
      "\n",
      "           0       0.83      0.86      0.84        78\n",
      "           1       0.81      0.77      0.79        60\n",
      "\n",
      "    accuracy                           0.82       138\n",
      "   macro avg       0.82      0.81      0.81       138\n",
      "weighted avg       0.82      0.82      0.82       138\n",
      "\n"
     ]
    }
   ],
   "source": [
    "from sklearn.metrics import confusion_matrix,classification_report,accuracy_score\n",
    "print(f'confusion matrix : {confusion_matrix(y_test,prediction)}')\n",
    "print(f'Accuracy Score : {accuracy_score(y_test,prediction)}')\n",
    "print(classification_report(y_test,prediction))"
   ]
  },
  {
   "cell_type": "markdown",
   "metadata": {},
   "source": [
    "# Manual Hyperparameter Tuning"
   ]
  },
  {
   "cell_type": "code",
   "execution_count": 7,
   "metadata": {},
   "outputs": [
    {
     "name": "stdout",
     "output_type": "stream",
     "text": [
      "[[67 11]\n",
      " [10 50]]\n",
      "0.8478260869565217\n",
      "              precision    recall  f1-score   support\n",
      "\n",
      "           0       0.87      0.86      0.86        78\n",
      "           1       0.82      0.83      0.83        60\n",
      "\n",
      "    accuracy                           0.85       138\n",
      "   macro avg       0.84      0.85      0.85       138\n",
      "weighted avg       0.85      0.85      0.85       138\n",
      "\n"
     ]
    }
   ],
   "source": [
    "### Manual Hyperparameter Tuning\n",
    "model=RandomForestClassifier(n_estimators=300,criterion='entropy',\n",
    "                             max_features='sqrt',min_samples_leaf=10,random_state=100).fit(X_train,y_train)\n",
    "predictions=model.predict(X_test)\n",
    "print(confusion_matrix(y_test,predictions))\n",
    "print(accuracy_score(y_test,predictions))\n",
    "print(classification_report(y_test,predictions))"
   ]
  },
  {
   "cell_type": "markdown",
   "metadata": {},
   "source": [
    "# Randomized Search Cv"
   ]
  },
  {
   "cell_type": "code",
   "execution_count": 8,
   "metadata": {},
   "outputs": [
    {
     "name": "stdout",
     "output_type": "stream",
     "text": [
      "{'n_estimators': [200, 400, 600, 800, 1000, 1200, 1400, 1600, 1800, 2000], 'max_features': ['auto', 'sqrt', 'log2'], 'max_depth': [10, 120, 230, 340, 450, 560, 670, 780, 890, 1000], 'min_samples_split': [2, 5, 10, 14], 'min_samples_leaf': [1, 2, 4, 6, 8], 'criterion': ['entropy', 'gini']}\n"
     ]
    }
   ],
   "source": [
    "import numpy as np\n",
    "from sklearn.model_selection import RandomizedSearchCV\n",
    "# Number of trees in random forest\n",
    "n_estimators = [int(x) for x in np.linspace(start = 200, stop = 2000, num = 10)]\n",
    "# Number of features to consider at every split\n",
    "max_features = ['auto', 'sqrt','log2']\n",
    "# Maximum number of levels in tree\n",
    "max_depth = [int(x) for x in np.linspace(10, 1000,10)]\n",
    "# Minimum number of samples required to split a node\n",
    "min_samples_split = [2, 5, 10,14]\n",
    "# Minimum number of samples required at each leaf node\n",
    "min_samples_leaf = [1, 2, 4,6,8]\n",
    "# Create the random grid\n",
    "random_grid = {'n_estimators': n_estimators,\n",
    "               'max_features': max_features,\n",
    "               'max_depth': max_depth,\n",
    "               'min_samples_split': min_samples_split,\n",
    "               'min_samples_leaf': min_samples_leaf,\n",
    "              'criterion':['entropy','gini']}\n",
    "print(random_grid)"
   ]
  },
  {
   "cell_type": "code",
   "execution_count": 9,
   "metadata": {},
   "outputs": [
    {
     "name": "stdout",
     "output_type": "stream",
     "text": [
      "Fitting 3 folds for each of 100 candidates, totalling 300 fits\n"
     ]
    },
    {
     "data": {
      "text/plain": [
       "RandomizedSearchCV(cv=3, estimator=RandomForestClassifier(), n_iter=100,\n",
       "                   n_jobs=-1,\n",
       "                   param_distributions={'criterion': ['entropy', 'gini'],\n",
       "                                        'max_depth': [10, 120, 230, 340, 450,\n",
       "                                                      560, 670, 780, 890,\n",
       "                                                      1000],\n",
       "                                        'max_features': ['auto', 'sqrt',\n",
       "                                                         'log2'],\n",
       "                                        'min_samples_leaf': [1, 2, 4, 6, 8],\n",
       "                                        'min_samples_split': [2, 5, 10, 14],\n",
       "                                        'n_estimators': [200, 400, 600, 800,\n",
       "                                                         1000, 1200, 1400, 1600,\n",
       "                                                         1800, 2000]},\n",
       "                   random_state=100, verbose=2)"
      ]
     },
     "execution_count": 9,
     "metadata": {},
     "output_type": "execute_result"
    }
   ],
   "source": [
    "rf=RandomForestClassifier()\n",
    "rf_randomcv=RandomizedSearchCV(estimator=rf,param_distributions=random_grid,n_iter=100,cv=3,verbose=2,\n",
    "                               random_state=100,n_jobs=-1)\n",
    "### fit the randomized model\n",
    "rf_randomcv.fit(X_train,y_train)"
   ]
  },
  {
   "cell_type": "code",
   "execution_count": 10,
   "metadata": {},
   "outputs": [
    {
     "data": {
      "text/plain": [
       "{'n_estimators': 1400,\n",
       " 'min_samples_split': 10,\n",
       " 'min_samples_leaf': 8,\n",
       " 'max_features': 'auto',\n",
       " 'max_depth': 450,\n",
       " 'criterion': 'gini'}"
      ]
     },
     "execution_count": 10,
     "metadata": {},
     "output_type": "execute_result"
    }
   ],
   "source": [
    "rf_randomcv.best_params_"
   ]
  },
  {
   "cell_type": "code",
   "execution_count": 11,
   "metadata": {},
   "outputs": [
    {
     "data": {
      "text/plain": [
       "RandomizedSearchCV(cv=3, estimator=RandomForestClassifier(), n_iter=100,\n",
       "                   n_jobs=-1,\n",
       "                   param_distributions={'criterion': ['entropy', 'gini'],\n",
       "                                        'max_depth': [10, 120, 230, 340, 450,\n",
       "                                                      560, 670, 780, 890,\n",
       "                                                      1000],\n",
       "                                        'max_features': ['auto', 'sqrt',\n",
       "                                                         'log2'],\n",
       "                                        'min_samples_leaf': [1, 2, 4, 6, 8],\n",
       "                                        'min_samples_split': [2, 5, 10, 14],\n",
       "                                        'n_estimators': [200, 400, 600, 800,\n",
       "                                                         1000, 1200, 1400, 1600,\n",
       "                                                         1800, 2000]},\n",
       "                   random_state=100, verbose=2)"
      ]
     },
     "execution_count": 11,
     "metadata": {},
     "output_type": "execute_result"
    }
   ],
   "source": [
    "rf_randomcv"
   ]
  },
  {
   "cell_type": "code",
   "execution_count": 12,
   "metadata": {},
   "outputs": [],
   "source": [
    "best_random_grid=rf_randomcv.best_estimator_"
   ]
  },
  {
   "cell_type": "code",
   "execution_count": 13,
   "metadata": {},
   "outputs": [
    {
     "name": "stdout",
     "output_type": "stream",
     "text": [
      "[[69  9]\n",
      " [10 50]]\n",
      "Accuracy Score 0.8623188405797102\n",
      "Classification report:               precision    recall  f1-score   support\n",
      "\n",
      "           0       0.87      0.88      0.88        78\n",
      "           1       0.85      0.83      0.84        60\n",
      "\n",
      "    accuracy                           0.86       138\n",
      "   macro avg       0.86      0.86      0.86       138\n",
      "weighted avg       0.86      0.86      0.86       138\n",
      "\n"
     ]
    }
   ],
   "source": [
    "from sklearn.metrics import accuracy_score\n",
    "y_pred=best_random_grid.predict(X_test)\n",
    "print(confusion_matrix(y_test,y_pred))\n",
    "print(\"Accuracy Score {}\".format(accuracy_score(y_test,y_pred)))\n",
    "print(\"Classification report: {}\".format(classification_report(y_test,y_pred)))"
   ]
  },
  {
   "cell_type": "markdown",
   "metadata": {},
   "source": [
    "# GridSearch CV"
   ]
  },
  {
   "cell_type": "code",
   "execution_count": 14,
   "metadata": {},
   "outputs": [
    {
     "name": "stdout",
     "output_type": "stream",
     "text": [
      "{'criterion': ['gini'], 'max_depth': [450], 'max_features': ['auto'], 'min_samples_leaf': [8, 10, 12], 'min_samples_split': [8, 9, 10, 11, 12], 'n_estimators': [1200, 1300, 1400, 1500, 1600]}\n"
     ]
    }
   ],
   "source": [
    "from sklearn.model_selection import GridSearchCV\n",
    "\n",
    "param_grid = {\n",
    "    'criterion': [rf_randomcv.best_params_['criterion']],\n",
    "    'max_depth': [rf_randomcv.best_params_['max_depth']],\n",
    "    'max_features': [rf_randomcv.best_params_['max_features']],\n",
    "    'min_samples_leaf': [rf_randomcv.best_params_['min_samples_leaf'], \n",
    "                         rf_randomcv.best_params_['min_samples_leaf']+2, \n",
    "                         rf_randomcv.best_params_['min_samples_leaf']+4],\n",
    "    'min_samples_split': [rf_randomcv.best_params_['min_samples_split']-2,\n",
    "                          rf_randomcv.best_params_['min_samples_split']-1,\n",
    "                          rf_randomcv.best_params_['min_samples_split'], \n",
    "                          rf_randomcv.best_params_['min_samples_split']+1,\n",
    "                          rf_randomcv.best_params_['min_samples_split']+2],\n",
    "    'n_estimators': [rf_randomcv.best_params_['n_estimators']-200, rf_randomcv.best_params_['n_estimators']-100, \n",
    "                     rf_randomcv.best_params_['n_estimators'], \n",
    "                     rf_randomcv.best_params_['n_estimators']+100, rf_randomcv.best_params_['n_estimators']+200]\n",
    "}\n",
    "print(param_grid)"
   ]
  },
  {
   "cell_type": "code",
   "execution_count": 15,
   "metadata": {},
   "outputs": [
    {
     "name": "stdout",
     "output_type": "stream",
     "text": [
      "Fitting 10 folds for each of 75 candidates, totalling 750 fits\n"
     ]
    },
    {
     "data": {
      "text/plain": [
       "GridSearchCV(cv=10, estimator=RandomForestClassifier(), n_jobs=-1,\n",
       "             param_grid={'criterion': ['gini'], 'max_depth': [450],\n",
       "                         'max_features': ['auto'],\n",
       "                         'min_samples_leaf': [8, 10, 12],\n",
       "                         'min_samples_split': [8, 9, 10, 11, 12],\n",
       "                         'n_estimators': [1200, 1300, 1400, 1500, 1600]},\n",
       "             verbose=2)"
      ]
     },
     "execution_count": 15,
     "metadata": {},
     "output_type": "execute_result"
    }
   ],
   "source": [
    "#### Fit the grid_search to the data\n",
    "rf=RandomForestClassifier()\n",
    "grid_search=GridSearchCV(estimator=rf,param_grid=param_grid,cv=10,n_jobs=-1,verbose=2)\n",
    "grid_search.fit(X_train,y_train)"
   ]
  },
  {
   "cell_type": "code",
   "execution_count": 16,
   "metadata": {},
   "outputs": [
    {
     "data": {
      "text/plain": [
       "RandomForestClassifier(max_depth=450, min_samples_leaf=10, min_samples_split=9,\n",
       "                       n_estimators=1200)"
      ]
     },
     "execution_count": 16,
     "metadata": {},
     "output_type": "execute_result"
    }
   ],
   "source": [
    "grid_search.best_estimator_"
   ]
  },
  {
   "cell_type": "code",
   "execution_count": 17,
   "metadata": {},
   "outputs": [],
   "source": [
    "best_grid=grid_search.best_estimator_"
   ]
  },
  {
   "cell_type": "code",
   "execution_count": 18,
   "metadata": {},
   "outputs": [
    {
     "data": {
      "text/plain": [
       "RandomForestClassifier(max_depth=450, min_samples_leaf=10, min_samples_split=9,\n",
       "                       n_estimators=1200)"
      ]
     },
     "execution_count": 18,
     "metadata": {},
     "output_type": "execute_result"
    }
   ],
   "source": [
    "best_grid"
   ]
  },
  {
   "cell_type": "code",
   "execution_count": 19,
   "metadata": {},
   "outputs": [
    {
     "name": "stdout",
     "output_type": "stream",
     "text": [
      "[[68 10]\n",
      " [10 50]]\n",
      "Accuracy Score 0.855072463768116\n",
      "Classification report:               precision    recall  f1-score   support\n",
      "\n",
      "           0       0.87      0.87      0.87        78\n",
      "           1       0.83      0.83      0.83        60\n",
      "\n",
      "    accuracy                           0.86       138\n",
      "   macro avg       0.85      0.85      0.85       138\n",
      "weighted avg       0.86      0.86      0.86       138\n",
      "\n"
     ]
    }
   ],
   "source": [
    "y_pred=best_grid.predict(X_test)\n",
    "print(confusion_matrix(y_test,y_pred))\n",
    "print(\"Accuracy Score {}\".format(accuracy_score(y_test,y_pred)))\n",
    "print(\"Classification report: {}\".format(classification_report(y_test,y_pred)))"
   ]
  },
  {
   "cell_type": "markdown",
   "metadata": {},
   "source": [
    "### Automated Hyperparameter Tuning\n",
    "Automated Hyperparameter Tuning can be done by using techniques such as\n",
    "\n",
    "- Bayesian Optimization\n",
    "- Gradient Descent\n",
    "- Evolutionary Algorithms\n",
    "    \n",
    "#### Bayesian Optimization\n",
    "Bayesian optimization uses probability to find the minimum of a function. The final aim is to find the input value to a function which can gives us the lowest possible output value.It usually performs better than random,grid and manual search providing better performance in the testing phase and reduced optimization time. In Hyperopt, Bayesian Optimization can be implemented giving 3 three main parameters to the function fmin.\n",
    "\n",
    "- Objective Function = defines the loss function to minimize.\n",
    "- Domain Space = defines the range of input values to test (in Bayesian Optimization this space creates a probability distribution for each of the used Hyperparameters).\n",
    "- Optimization Algorithm = defines the search algorithm to use to select the best input values to use in each new iteration."
   ]
  },
  {
   "cell_type": "code",
   "execution_count": 20,
   "metadata": {},
   "outputs": [],
   "source": [
    "from hyperopt import hp,fmin,tpe,STATUS_OK,Trials"
   ]
  },
  {
   "cell_type": "code",
   "execution_count": 21,
   "metadata": {},
   "outputs": [],
   "source": [
    "space = {'criterion': hp.choice('criterion', ['entropy', 'gini']),\n",
    "        'max_depth': hp.choice('max_depth',[10, 120, 230, 340, 450, 560, 670, 780, 890, 1000]),\n",
    "        'max_features': hp.choice('max_features', ['auto', 'sqrt','log2', None]),\n",
    "        'min_samples_leaf': hp.uniform('min_samples_leaf', 0, 0.5),\n",
    "        'min_samples_split' : hp.uniform ('min_samples_split', 0, 1),\n",
    "        'n_estimators' : hp.choice('n_estimators', [200, 400, 600, 800, 1000, 1200, 1400, 1600, 1800, 2000])\n",
    "    }"
   ]
  },
  {
   "cell_type": "code",
   "execution_count": 22,
   "metadata": {},
   "outputs": [],
   "source": [
    "def objective(space):\n",
    "    model = RandomForestClassifier(criterion = space['criterion'], max_depth = space['max_depth'],\n",
    "                                 max_features = space['max_features'],\n",
    "                                 min_samples_leaf = space['min_samples_leaf'],\n",
    "                                 min_samples_split = space['min_samples_split'],\n",
    "                                 n_estimators = space['n_estimators'], \n",
    "                                 )\n",
    "    \n",
    "    accuracy = cross_val_score(model, X_train, y_train, cv = 5).mean()\n",
    "\n",
    "    # We aim to maximize accuracy, therefore we return it as a negative value\n",
    "    return {'loss': -accuracy, 'status': STATUS_OK }"
   ]
  },
  {
   "cell_type": "code",
   "execution_count": 23,
   "metadata": {},
   "outputs": [
    {
     "name": "stdout",
     "output_type": "stream",
     "text": [
      "100%|███████████████████████████████████████████████| 80/80 [08:56<00:00,  6.71s/trial, best loss: -0.8585913185913185]\n"
     ]
    },
    {
     "data": {
      "text/plain": [
       "{'criterion': 1,\n",
       " 'max_depth': 0,\n",
       " 'max_features': 1,\n",
       " 'min_samples_leaf': 0.08453684676276399,\n",
       " 'min_samples_split': 0.11006204582812613,\n",
       " 'n_estimators': 2}"
      ]
     },
     "execution_count": 23,
     "metadata": {},
     "output_type": "execute_result"
    }
   ],
   "source": [
    "from sklearn.model_selection import cross_val_score\n",
    "trials = Trials()\n",
    "best = fmin(fn= objective,\n",
    "            space= space,\n",
    "            algo= tpe.suggest,\n",
    "            max_evals = 80,\n",
    "            trials= trials)\n",
    "best"
   ]
  },
  {
   "cell_type": "code",
   "execution_count": 24,
   "metadata": {},
   "outputs": [
    {
     "name": "stdout",
     "output_type": "stream",
     "text": [
      "gini\n",
      "sqrt\n",
      "600\n"
     ]
    }
   ],
   "source": [
    "crit = {0: 'entropy', 1: 'gini'}\n",
    "depth = [10, 120, 230, 340, 450, 560, 670, 780, 890, 1000]\n",
    "feat = {0: 'auto', 1: 'sqrt', 2: 'log2', 3: None}\n",
    "est = {0: 200, 1: 400, 2: 600, 3: 800, 4: 1000, 5:1200, 6:1400,7:1600,8:1800,9:2000}\n",
    "\n",
    "print(crit[best['criterion']])\n",
    "print(feat[best['max_features']])\n",
    "print(est[best['n_estimators']])"
   ]
  },
  {
   "cell_type": "code",
   "execution_count": 25,
   "metadata": {},
   "outputs": [
    {
     "data": {
      "text/plain": [
       "0.08453684676276399"
      ]
     },
     "execution_count": 25,
     "metadata": {},
     "output_type": "execute_result"
    }
   ],
   "source": [
    "best['min_samples_leaf']"
   ]
  },
  {
   "cell_type": "code",
   "execution_count": 26,
   "metadata": {},
   "outputs": [
    {
     "name": "stdout",
     "output_type": "stream",
     "text": [
      "[[64 14]\n",
      " [ 6 54]]\n",
      "0.855072463768116\n",
      "              precision    recall  f1-score   support\n",
      "\n",
      "           0       0.91      0.82      0.86        78\n",
      "           1       0.79      0.90      0.84        60\n",
      "\n",
      "    accuracy                           0.86       138\n",
      "   macro avg       0.85      0.86      0.85       138\n",
      "weighted avg       0.86      0.86      0.86       138\n",
      "\n"
     ]
    }
   ],
   "source": [
    "trainedforest = RandomForestClassifier(criterion = crit[best['criterion']], max_depth = depth[best['max_depth']], \n",
    "                                       max_features = feat[best['max_features']], \n",
    "                                       min_samples_leaf = best['min_samples_leaf'], \n",
    "                                       min_samples_split = best['min_samples_split'], \n",
    "                                       n_estimators = est[best['n_estimators']]).fit(X_train,y_train)\n",
    "predictionforest = trainedforest.predict(X_test)\n",
    "print(confusion_matrix(y_test,predictionforest))\n",
    "print(accuracy_score(y_test,predictionforest))\n",
    "print(classification_report(y_test,predictionforest))\n",
    "acc5 = accuracy_score(y_test,predictionforest)"
   ]
  },
  {
   "cell_type": "markdown",
   "metadata": {},
   "source": [
    "## Genetic Algorithms\n",
    "Genetic Algorithms tries to apply natural selection mechanisms to Machine Learning contexts.\n",
    "\n",
    "Let's imagine we create a population of N Machine Learning models with some predifined Hyperparameters. We can then calculate the accuracy of each model and decide to keep just half of the models (the ones that performs best). We can now generate some offsprings having similar Hyperparameters to the ones of the best models so that go get again a population of N models. At this point we can again caltulate the accuracy of each model and repeate the cycle for a defined number of generations. In this way, just the best models will survive at the end of the process."
   ]
  },
  {
   "cell_type": "code",
   "execution_count": 27,
   "metadata": {},
   "outputs": [
    {
     "name": "stdout",
     "output_type": "stream",
     "text": [
      "{'n_estimators': [200, 400, 600, 800, 1000, 1200, 1400, 1600, 1800, 2000], 'max_features': ['auto', 'sqrt', 'log2'], 'max_depth': [10, 120, 230, 340, 450, 560, 670, 780, 890, 1000], 'min_samples_split': [2, 5, 10, 14], 'min_samples_leaf': [1, 2, 4, 6, 8], 'criterion': ['entropy', 'gini']}\n"
     ]
    }
   ],
   "source": [
    "import numpy as np\n",
    "from sklearn.model_selection import RandomizedSearchCV\n",
    "# Number of trees in random forest\n",
    "n_estimators = [int(x) for x in np.linspace(start = 200, stop = 2000, num = 10)]\n",
    "# Number of features to consider at every split\n",
    "max_features = ['auto', 'sqrt','log2']\n",
    "# Maximum number of levels in tree\n",
    "max_depth = [int(x) for x in np.linspace(10, 1000,10)]\n",
    "# Minimum number of samples required to split a node\n",
    "min_samples_split = [2, 5, 10,14]\n",
    "# Minimum number of samples required at each leaf node\n",
    "min_samples_leaf = [1, 2, 4,6,8]\n",
    "# Create the random grid\n",
    "param = {'n_estimators': n_estimators,\n",
    "               'max_features': max_features,\n",
    "               'max_depth': max_depth,\n",
    "               'min_samples_split': min_samples_split,\n",
    "               'min_samples_leaf': min_samples_leaf,\n",
    "              'criterion':['entropy','gini']}\n",
    "print(param)"
   ]
  },
  {
   "cell_type": "code",
   "execution_count": 28,
   "metadata": {},
   "outputs": [
    {
     "data": {
      "application/vnd.jupyter.widget-view+json": {
       "model_id": "ddae60db80aa47b58824500a64e6b6e9",
       "version_major": 2,
       "version_minor": 0
      },
      "text/plain": [
       "Optimization Progress:   0%|          | 0/84 [00:00<?, ?pipeline/s]"
      ]
     },
     "metadata": {},
     "output_type": "display_data"
    },
    {
     "name": "stdout",
     "output_type": "stream",
     "text": [
      "\n",
      "Generation 1 - Current best internal CV score: 0.8586956521739131\n",
      "\n",
      "Generation 2 - Current best internal CV score: 0.8586956521739131\n",
      "\n",
      "Generation 3 - Current best internal CV score: 0.8586956521739131\n",
      "\n",
      "Generation 4 - Current best internal CV score: 0.8586956521739131\n",
      "\n",
      "Generation 5 - Current best internal CV score: 0.8586956521739131\n",
      "\n",
      "Best pipeline: RandomForestClassifier(input_matrix, criterion=gini, max_depth=120, max_features=auto, min_samples_leaf=8, min_samples_split=5, n_estimators=1400)\n"
     ]
    },
    {
     "data": {
      "text/plain": [
       "TPOTClassifier(config_dict={'sklearn.ensemble.RandomForestClassifier': {'criterion': ['entropy',\n",
       "                                                                                      'gini'],\n",
       "                                                                        'max_depth': [10,\n",
       "                                                                                      120,\n",
       "                                                                                      230,\n",
       "                                                                                      340,\n",
       "                                                                                      450,\n",
       "                                                                                      560,\n",
       "                                                                                      670,\n",
       "                                                                                      780,\n",
       "                                                                                      890,\n",
       "                                                                                      1000],\n",
       "                                                                        'max_features': ['auto',\n",
       "                                                                                         'sqrt',\n",
       "                                                                                         'log2'],\n",
       "                                                                        'min_samples_leaf': [1,\n",
       "                                                                                             2,\n",
       "                                                                                             4,\n",
       "                                                                                             6,\n",
       "                                                                                             8],\n",
       "                                                                        'min_samples_split': [2,\n",
       "                                                                                              5,\n",
       "                                                                                              10,\n",
       "                                                                                              14],\n",
       "                                                                        'n_estimators': [200,\n",
       "                                                                                         400,\n",
       "                                                                                         600,\n",
       "                                                                                         800,\n",
       "                                                                                         1000,\n",
       "                                                                                         1200,\n",
       "                                                                                         1400,\n",
       "                                                                                         1600,\n",
       "                                                                                         1800,\n",
       "                                                                                         2000]}},\n",
       "               cv=4, early_stop=12, generations=5, offspring_size=12,\n",
       "               population_size=24, scoring='accuracy', verbosity=2)"
      ]
     },
     "execution_count": 28,
     "metadata": {},
     "output_type": "execute_result"
    }
   ],
   "source": [
    "from tpot import TPOTClassifier\n",
    "\n",
    "tpot_classifier = TPOTClassifier(generations= 5, population_size= 24, offspring_size= 12,\n",
    "                                 verbosity= 2, early_stop= 12,\n",
    "                                 config_dict={'sklearn.ensemble.RandomForestClassifier': param}, \n",
    "                                 cv = 4, scoring = 'accuracy')\n",
    "tpot_classifier.fit(X_train,y_train)"
   ]
  },
  {
   "cell_type": "code",
   "execution_count": 29,
   "metadata": {},
   "outputs": [
    {
     "name": "stdout",
     "output_type": "stream",
     "text": [
      "0.8478260869565217\n"
     ]
    }
   ],
   "source": [
    "accuracy = tpot_classifier.score(X_test, y_test)\n",
    "print(accuracy)"
   ]
  },
  {
   "cell_type": "markdown",
   "metadata": {},
   "source": [
    "## Optimize hyperparameters of the model using Optuna\n",
    "The hyperparameters of the above algorithm are n_estimators and max_depth for which we can try different values to see if the model accuracy can be improved. The objective function is modified to accept a trial object. This trial has several methods for sampling hyperparameters. We create a study to run the hyperparameter optimization and finally read the best hyperparameters."
   ]
  },
  {
   "cell_type": "code",
   "execution_count": 30,
   "metadata": {},
   "outputs": [],
   "source": [
    "import optuna\n",
    "import sklearn.svm\n",
    "def objective(trial):\n",
    "    classifier = trial.suggest_categorical('classifier', ['RandomForest', 'SVC'])\n",
    "    \n",
    "    if classifier == 'RandomForest':\n",
    "        n_estimators = trial.suggest_int('n_estimators', 200, 2000,10)\n",
    "        max_depth = int(trial.suggest_float('max_depth', 10, 100, log=True))\n",
    "\n",
    "        clf = sklearn.ensemble.RandomForestClassifier(\n",
    "            n_estimators=n_estimators, max_depth=max_depth)\n",
    "    else:\n",
    "        c = trial.suggest_float('svc_c', 1e-10, 1e10, log=True)\n",
    "        clf = sklearn.svm.SVC(C=c, gamma='auto')\n",
    "    return sklearn.model_selection.cross_val_score(\n",
    "        clf,X_train,y_train, n_jobs=-1, cv=3).mean()"
   ]
  },
  {
   "cell_type": "code",
   "execution_count": 31,
   "metadata": {},
   "outputs": [
    {
     "name": "stderr",
     "output_type": "stream",
     "text": [
      "\u001b[32m[I 2021-11-07 09:21:53,119]\u001b[0m A new study created in memory with name: no-name-d1f2e607-527d-4c27-ad91-968e601eb6d4\u001b[0m\n",
      "\u001b[32m[I 2021-11-07 09:21:58,012]\u001b[0m Trial 0 finished with value: 0.8278985507246377 and parameters: {'classifier': 'RandomForest', 'n_estimators': 1860, 'max_depth': 52.831636492821204}. Best is trial 0 with value: 0.8278985507246377.\u001b[0m\n",
      "\u001b[32m[I 2021-11-07 09:22:03,753]\u001b[0m Trial 1 finished with value: 0.6721014492753623 and parameters: {'classifier': 'SVC', 'svc_c': 274357.6778465932}. Best is trial 0 with value: 0.8278985507246377.\u001b[0m\n",
      "\u001b[32m[I 2021-11-07 09:22:06,332]\u001b[0m Trial 2 finished with value: 0.8333333333333334 and parameters: {'classifier': 'RandomForest', 'n_estimators': 700, 'max_depth': 66.28649973761492}. Best is trial 2 with value: 0.8333333333333334.\u001b[0m\n",
      "\u001b[32m[I 2021-11-07 09:22:07,029]\u001b[0m Trial 3 finished with value: 0.8278985507246377 and parameters: {'classifier': 'RandomForest', 'n_estimators': 420, 'max_depth': 21.09713286033926}. Best is trial 2 with value: 0.8333333333333334.\u001b[0m\n",
      "\u001b[32m[I 2021-11-07 09:25:45,166]\u001b[0m Trial 4 finished with value: 0.5887681159420289 and parameters: {'classifier': 'SVC', 'svc_c': 5861527765.6813545}. Best is trial 2 with value: 0.8333333333333334.\u001b[0m\n",
      "\u001b[32m[I 2021-11-07 09:25:45,223]\u001b[0m Trial 5 finished with value: 0.7101449275362318 and parameters: {'classifier': 'SVC', 'svc_c': 37.30576591726301}. Best is trial 2 with value: 0.8333333333333334.\u001b[0m\n",
      "\u001b[32m[I 2021-11-07 09:25:45,261]\u001b[0m Trial 6 finished with value: 0.552536231884058 and parameters: {'classifier': 'SVC', 'svc_c': 2.091714942429609e-08}. Best is trial 2 with value: 0.8333333333333334.\u001b[0m\n",
      "\u001b[32m[I 2021-11-07 09:25:47,807]\u001b[0m Trial 7 finished with value: 0.8315217391304347 and parameters: {'classifier': 'RandomForest', 'n_estimators': 1620, 'max_depth': 17.311885144567185}. Best is trial 2 with value: 0.8333333333333334.\u001b[0m\n",
      "\u001b[32m[I 2021-11-07 09:25:50,104]\u001b[0m Trial 8 finished with value: 0.8278985507246377 and parameters: {'classifier': 'RandomForest', 'n_estimators': 1450, 'max_depth': 10.254902923002449}. Best is trial 2 with value: 0.8333333333333334.\u001b[0m\n",
      "\u001b[32m[I 2021-11-07 09:25:50,738]\u001b[0m Trial 9 finished with value: 0.8333333333333334 and parameters: {'classifier': 'RandomForest', 'n_estimators': 380, 'max_depth': 98.70403999854032}. Best is trial 2 with value: 0.8333333333333334.\u001b[0m\n",
      "\u001b[32m[I 2021-11-07 09:25:52,429]\u001b[0m Trial 10 finished with value: 0.8278985507246377 and parameters: {'classifier': 'RandomForest', 'n_estimators': 1000, 'max_depth': 54.859407243484796}. Best is trial 2 with value: 0.8333333333333334.\u001b[0m\n",
      "\u001b[32m[I 2021-11-07 09:25:53,035]\u001b[0m Trial 11 finished with value: 0.8260869565217391 and parameters: {'classifier': 'RandomForest', 'n_estimators': 370, 'max_depth': 98.30039261236217}. Best is trial 2 with value: 0.8333333333333334.\u001b[0m\n",
      "\u001b[32m[I 2021-11-07 09:25:54,620]\u001b[0m Trial 12 finished with value: 0.8297101449275363 and parameters: {'classifier': 'RandomForest', 'n_estimators': 780, 'max_depth': 95.90415715108018}. Best is trial 2 with value: 0.8333333333333334.\u001b[0m\n",
      "\u001b[32m[I 2021-11-07 09:25:55,936]\u001b[0m Trial 13 finished with value: 0.8260869565217391 and parameters: {'classifier': 'RandomForest', 'n_estimators': 710, 'max_depth': 55.12220753276833}. Best is trial 2 with value: 0.8333333333333334.\u001b[0m\n",
      "\u001b[32m[I 2021-11-07 09:25:56,455]\u001b[0m Trial 14 finished with value: 0.8242753623188407 and parameters: {'classifier': 'RandomForest', 'n_estimators': 240, 'max_depth': 70.91536212164326}. Best is trial 2 with value: 0.8333333333333334.\u001b[0m\n",
      "\u001b[32m[I 2021-11-07 09:25:58,025]\u001b[0m Trial 15 finished with value: 0.8278985507246377 and parameters: {'classifier': 'RandomForest', 'n_estimators': 740, 'max_depth': 35.65316241265552}. Best is trial 2 with value: 0.8333333333333334.\u001b[0m\n",
      "\u001b[32m[I 2021-11-07 09:26:00,542]\u001b[0m Trial 16 finished with value: 0.8297101449275363 and parameters: {'classifier': 'RandomForest', 'n_estimators': 1240, 'max_depth': 35.75147829711932}. Best is trial 2 with value: 0.8333333333333334.\u001b[0m\n",
      "\u001b[32m[I 2021-11-07 09:26:01,659]\u001b[0m Trial 17 finished with value: 0.8315217391304347 and parameters: {'classifier': 'RandomForest', 'n_estimators': 620, 'max_depth': 69.72275643317607}. Best is trial 2 with value: 0.8333333333333334.\u001b[0m\n",
      "\u001b[32m[I 2021-11-07 09:26:01,710]\u001b[0m Trial 18 finished with value: 0.552536231884058 and parameters: {'classifier': 'SVC', 'svc_c': 4.805312194600352e-10}. Best is trial 2 with value: 0.8333333333333334.\u001b[0m\n",
      "\u001b[32m[I 2021-11-07 09:26:03,807]\u001b[0m Trial 19 finished with value: 0.8278985507246377 and parameters: {'classifier': 'RandomForest', 'n_estimators': 1040, 'max_depth': 75.97878132137862}. Best is trial 2 with value: 0.8333333333333334.\u001b[0m\n",
      "\u001b[32m[I 2021-11-07 09:26:04,667]\u001b[0m Trial 20 finished with value: 0.8297101449275363 and parameters: {'classifier': 'RandomForest', 'n_estimators': 470, 'max_depth': 27.366889356875284}. Best is trial 2 with value: 0.8333333333333334.\u001b[0m\n",
      "\u001b[32m[I 2021-11-07 09:26:05,781]\u001b[0m Trial 21 finished with value: 0.8297101449275363 and parameters: {'classifier': 'RandomForest', 'n_estimators': 590, 'max_depth': 68.74733484678687}. Best is trial 2 with value: 0.8333333333333334.\u001b[0m\n",
      "\u001b[32m[I 2021-11-07 09:26:06,197]\u001b[0m Trial 22 finished with value: 0.8260869565217391 and parameters: {'classifier': 'RandomForest', 'n_estimators': 200, 'max_depth': 47.76739748531265}. Best is trial 2 with value: 0.8333333333333334.\u001b[0m\n",
      "\u001b[32m[I 2021-11-07 09:26:07,896]\u001b[0m Trial 23 finished with value: 0.8278985507246377 and parameters: {'classifier': 'RandomForest', 'n_estimators': 920, 'max_depth': 82.09859314933036}. Best is trial 2 with value: 0.8333333333333334.\u001b[0m\n",
      "\u001b[32m[I 2021-11-07 09:26:08,910]\u001b[0m Trial 24 finished with value: 0.8297101449275363 and parameters: {'classifier': 'RandomForest', 'n_estimators': 560, 'max_depth': 64.94765957266509}. Best is trial 2 with value: 0.8333333333333334.\u001b[0m\n",
      "\u001b[32m[I 2021-11-07 09:26:10,532]\u001b[0m Trial 25 finished with value: 0.8315217391304347 and parameters: {'classifier': 'RandomForest', 'n_estimators': 830, 'max_depth': 46.434669780471324}. Best is trial 2 with value: 0.8333333333333334.\u001b[0m\n",
      "\u001b[32m[I 2021-11-07 09:26:10,595]\u001b[0m Trial 26 finished with value: 0.552536231884058 and parameters: {'classifier': 'SVC', 'svc_c': 4.692014685165451e-05}. Best is trial 2 with value: 0.8333333333333334.\u001b[0m\n",
      "\u001b[32m[I 2021-11-07 09:26:12,758]\u001b[0m Trial 27 finished with value: 0.8297101449275363 and parameters: {'classifier': 'RandomForest', 'n_estimators': 1220, 'max_depth': 91.0145704264405}. Best is trial 2 with value: 0.8333333333333334.\u001b[0m\n",
      "\u001b[32m[I 2021-11-07 09:26:14,312]\u001b[0m Trial 28 finished with value: 0.8297101449275363 and parameters: {'classifier': 'RandomForest', 'n_estimators': 790, 'max_depth': 40.18898077090656}. Best is trial 2 with value: 0.8333333333333334.\u001b[0m\n",
      "\u001b[32m[I 2021-11-07 09:26:16,026]\u001b[0m Trial 29 finished with value: 0.8297101449275361 and parameters: {'classifier': 'RandomForest', 'n_estimators': 880, 'max_depth': 43.442867040009915}. Best is trial 2 with value: 0.8333333333333334.\u001b[0m\n",
      "\u001b[32m[I 2021-11-07 09:26:16,684]\u001b[0m Trial 30 finished with value: 0.8315217391304347 and parameters: {'classifier': 'RandomForest', 'n_estimators': 340, 'max_depth': 27.15410211313713}. Best is trial 2 with value: 0.8333333333333334.\u001b[0m\n",
      "\u001b[32m[I 2021-11-07 09:26:17,450]\u001b[0m Trial 31 finished with value: 0.8297101449275363 and parameters: {'classifier': 'RandomForest', 'n_estimators': 360, 'max_depth': 26.044557150073775}. Best is trial 2 with value: 0.8333333333333334.\u001b[0m\n",
      "\u001b[32m[I 2021-11-07 09:26:18,647]\u001b[0m Trial 32 finished with value: 0.8278985507246377 and parameters: {'classifier': 'RandomForest', 'n_estimators': 630, 'max_depth': 64.47591666710879}. Best is trial 2 with value: 0.8333333333333334.\u001b[0m\n",
      "\u001b[32m[I 2021-11-07 09:26:19,389]\u001b[0m Trial 33 finished with value: 0.8260869565217391 and parameters: {'classifier': 'RandomForest', 'n_estimators': 330, 'max_depth': 28.41728913453008}. Best is trial 2 with value: 0.8333333333333334.\u001b[0m\n",
      "\u001b[32m[I 2021-11-07 09:26:19,443]\u001b[0m Trial 34 finished with value: 0.6721014492753623 and parameters: {'classifier': 'SVC', 'svc_c': 0.09588202749373985}. Best is trial 2 with value: 0.8333333333333334.\u001b[0m\n",
      "\u001b[32m[I 2021-11-07 09:26:20,379]\u001b[0m Trial 35 finished with value: 0.8260869565217391 and parameters: {'classifier': 'RandomForest', 'n_estimators': 520, 'max_depth': 80.35082200951047}. Best is trial 2 with value: 0.8333333333333334.\u001b[0m\n",
      "\u001b[32m[I 2021-11-07 09:30:05,094]\u001b[0m Trial 36 finished with value: 0.5996376811594203 and parameters: {'classifier': 'SVC', 'svc_c': 4683769329.616452}. Best is trial 2 with value: 0.8333333333333334.\u001b[0m\n",
      "\u001b[32m[I 2021-11-07 09:30:06,183]\u001b[0m Trial 37 finished with value: 0.8297101449275363 and parameters: {'classifier': 'RandomForest', 'n_estimators': 640, 'max_depth': 20.74756025406368}. Best is trial 2 with value: 0.8333333333333334.\u001b[0m\n",
      "\u001b[32m[I 2021-11-07 09:30:09,413]\u001b[0m Trial 38 finished with value: 0.8278985507246377 and parameters: {'classifier': 'RandomForest', 'n_estimators': 1990, 'max_depth': 14.19843761496833}. Best is trial 2 with value: 0.8333333333333334.\u001b[0m\n",
      "\u001b[32m[I 2021-11-07 09:30:09,473]\u001b[0m Trial 39 finished with value: 0.7101449275362318 and parameters: {'classifier': 'SVC', 'svc_c': 2439.039483418046}. Best is trial 2 with value: 0.8333333333333334.\u001b[0m\n",
      "\u001b[32m[I 2021-11-07 09:30:12,138]\u001b[0m Trial 40 finished with value: 0.8315217391304347 and parameters: {'classifier': 'RandomForest', 'n_estimators': 1640, 'max_depth': 16.924505094573238}. Best is trial 2 with value: 0.8333333333333334.\u001b[0m\n",
      "\u001b[32m[I 2021-11-07 09:30:15,022]\u001b[0m Trial 41 finished with value: 0.8260869565217391 and parameters: {'classifier': 'RandomForest', 'n_estimators': 1650, 'max_depth': 16.881087090286176}. Best is trial 2 with value: 0.8333333333333334.\u001b[0m\n",
      "\u001b[32m[I 2021-11-07 09:30:17,287]\u001b[0m Trial 42 finished with value: 0.8297101449275363 and parameters: {'classifier': 'RandomForest', 'n_estimators': 1190, 'max_depth': 59.42234998580596}. Best is trial 2 with value: 0.8333333333333334.\u001b[0m\n",
      "\u001b[32m[I 2021-11-07 09:30:20,434]\u001b[0m Trial 43 finished with value: 0.8297101449275363 and parameters: {'classifier': 'RandomForest', 'n_estimators': 1690, 'max_depth': 13.460708218248385}. Best is trial 2 with value: 0.8333333333333334.\u001b[0m\n",
      "\u001b[32m[I 2021-11-07 09:30:22,963]\u001b[0m Trial 44 finished with value: 0.8315217391304347 and parameters: {'classifier': 'RandomForest', 'n_estimators': 1420, 'max_depth': 22.53059124964719}. Best is trial 2 with value: 0.8333333333333334.\u001b[0m\n",
      "\u001b[32m[I 2021-11-07 09:30:25,518]\u001b[0m Trial 45 finished with value: 0.8297101449275363 and parameters: {'classifier': 'RandomForest', 'n_estimators': 1430, 'max_depth': 22.83817376967154}. Best is trial 2 with value: 0.8333333333333334.\u001b[0m\n",
      "\u001b[32m[I 2021-11-07 09:30:26,330]\u001b[0m Trial 46 finished with value: 0.8297101449275363 and parameters: {'classifier': 'RandomForest', 'n_estimators': 450, 'max_depth': 49.501344612657356}. Best is trial 2 with value: 0.8333333333333334.\u001b[0m\n",
      "\u001b[32m[I 2021-11-07 09:30:29,087]\u001b[0m Trial 47 finished with value: 0.8315217391304347 and parameters: {'classifier': 'RandomForest', 'n_estimators': 1470, 'max_depth': 18.438817014709187}. Best is trial 2 with value: 0.8333333333333334.\u001b[0m\n",
      "\u001b[32m[I 2021-11-07 09:30:31,662]\u001b[0m Trial 48 finished with value: 0.8278985507246377 and parameters: {'classifier': 'RandomForest', 'n_estimators': 1480, 'max_depth': 20.274880337151853}. Best is trial 2 with value: 0.8333333333333334.\u001b[0m\n",
      "\u001b[32m[I 2021-11-07 09:30:31,724]\u001b[0m Trial 49 finished with value: 0.552536231884058 and parameters: {'classifier': 'SVC', 'svc_c': 0.0008823617322719098}. Best is trial 2 with value: 0.8333333333333334.\u001b[0m\n",
      "\u001b[32m[I 2021-11-07 09:30:34,088]\u001b[0m Trial 50 finished with value: 0.8297101449275363 and parameters: {'classifier': 'RandomForest', 'n_estimators': 1350, 'max_depth': 23.056570440159625}. Best is trial 2 with value: 0.8333333333333334.\u001b[0m\n",
      "\u001b[32m[I 2021-11-07 09:30:37,124]\u001b[0m Trial 51 finished with value: 0.8315217391304349 and parameters: {'classifier': 'RandomForest', 'n_estimators': 1680, 'max_depth': 10.766664161454417}. Best is trial 2 with value: 0.8333333333333334.\u001b[0m\n",
      "\u001b[32m[I 2021-11-07 09:30:40,474]\u001b[0m Trial 52 finished with value: 0.8297101449275363 and parameters: {'classifier': 'RandomForest', 'n_estimators': 1830, 'max_depth': 11.859460286257686}. Best is trial 2 with value: 0.8333333333333334.\u001b[0m\n",
      "\u001b[32m[I 2021-11-07 09:30:43,749]\u001b[0m Trial 53 finished with value: 0.8297101449275363 and parameters: {'classifier': 'RandomForest', 'n_estimators': 1800, 'max_depth': 34.498458800715916}. Best is trial 2 with value: 0.8333333333333334.\u001b[0m\n",
      "\u001b[32m[I 2021-11-07 09:30:46,538]\u001b[0m Trial 54 finished with value: 0.8260869565217391 and parameters: {'classifier': 'RandomForest', 'n_estimators': 1570, 'max_depth': 11.03648813623148}. Best is trial 2 with value: 0.8333333333333334.\u001b[0m\n",
      "\u001b[32m[I 2021-11-07 09:30:47,057]\u001b[0m Trial 55 finished with value: 0.8278985507246377 and parameters: {'classifier': 'RandomForest', 'n_estimators': 290, 'max_depth': 57.427070684398586}. Best is trial 2 with value: 0.8333333333333334.\u001b[0m\n",
      "\u001b[32m[I 2021-11-07 09:30:48,677]\u001b[0m Trial 56 finished with value: 0.8278985507246377 and parameters: {'classifier': 'RandomForest', 'n_estimators': 860, 'max_depth': 14.446597967509316}. Best is trial 2 with value: 0.8333333333333334.\u001b[0m\n",
      "\u001b[32m[I 2021-11-07 09:30:51,370]\u001b[0m Trial 57 finished with value: 0.8315217391304347 and parameters: {'classifier': 'RandomForest', 'n_estimators': 1530, 'max_depth': 18.439232988646012}. Best is trial 2 with value: 0.8333333333333334.\u001b[0m\n",
      "\u001b[32m[I 2021-11-07 09:30:52,064]\u001b[0m Trial 58 finished with value: 0.8297101449275363 and parameters: {'classifier': 'RandomForest', 'n_estimators': 390, 'max_depth': 87.20251795005234}. Best is trial 2 with value: 0.8333333333333334.\u001b[0m\n",
      "\u001b[32m[I 2021-11-07 09:30:55,228]\u001b[0m Trial 59 finished with value: 0.8278985507246377 and parameters: {'classifier': 'RandomForest', 'n_estimators': 1720, 'max_depth': 30.044248364644783}. Best is trial 2 with value: 0.8333333333333334.\u001b[0m\n",
      "\u001b[32m[I 2021-11-07 09:30:58,593]\u001b[0m Trial 60 finished with value: 0.8297101449275363 and parameters: {'classifier': 'RandomForest', 'n_estimators': 1920, 'max_depth': 15.973550730425412}. Best is trial 2 with value: 0.8333333333333334.\u001b[0m\n",
      "\u001b[32m[I 2021-11-07 09:31:01,534]\u001b[0m Trial 61 finished with value: 0.8297101449275363 and parameters: {'classifier': 'RandomForest', 'n_estimators': 1540, 'max_depth': 18.152245017546537}. Best is trial 2 with value: 0.8333333333333334.\u001b[0m\n",
      "\u001b[32m[I 2021-11-07 09:31:03,040]\u001b[0m Trial 62 finished with value: 0.8278985507246377 and parameters: {'classifier': 'RandomForest', 'n_estimators': 710, 'max_depth': 10.10540989768856}. Best is trial 2 with value: 0.8333333333333334.\u001b[0m\n",
      "\u001b[32m[I 2021-11-07 09:31:05,821]\u001b[0m Trial 63 finished with value: 0.8297101449275363 and parameters: {'classifier': 'RandomForest', 'n_estimators': 1340, 'max_depth': 24.143544288284463}. Best is trial 2 with value: 0.8333333333333334.\u001b[0m\n",
      "\u001b[32m[I 2021-11-07 09:31:09,309]\u001b[0m Trial 64 finished with value: 0.8278985507246377 and parameters: {'classifier': 'RandomForest', 'n_estimators': 1770, 'max_depth': 11.992153074248865}. Best is trial 2 with value: 0.8333333333333334.\u001b[0m\n",
      "\u001b[32m[I 2021-11-07 09:31:11,271]\u001b[0m Trial 65 finished with value: 0.8297101449275363 and parameters: {'classifier': 'RandomForest', 'n_estimators': 1010, 'max_depth': 97.48306258705215}. Best is trial 2 with value: 0.8333333333333334.\u001b[0m\n",
      "\u001b[32m[I 2021-11-07 09:31:11,325]\u001b[0m Trial 66 finished with value: 0.552536231884058 and parameters: {'classifier': 'SVC', 'svc_c': 1.3414312808666403e-05}. Best is trial 2 with value: 0.8333333333333334.\u001b[0m\n",
      "\u001b[32m[I 2021-11-07 09:31:12,791]\u001b[0m Trial 67 finished with value: 0.8297101449275363 and parameters: {'classifier': 'RandomForest', 'n_estimators': 770, 'max_depth': 73.97056749186989}. Best is trial 2 with value: 0.8333333333333334.\u001b[0m\n",
      "\u001b[32m[I 2021-11-07 09:31:15,118]\u001b[0m Trial 68 finished with value: 0.8297101449275363 and parameters: {'classifier': 'RandomForest', 'n_estimators': 1100, 'max_depth': 41.852281832634816}. Best is trial 2 with value: 0.8333333333333334.\u001b[0m\n",
      "\u001b[32m[I 2021-11-07 09:31:16,064]\u001b[0m Trial 69 finished with value: 0.8297101449275361 and parameters: {'classifier': 'RandomForest', 'n_estimators': 490, 'max_depth': 45.75584765731666}. Best is trial 2 with value: 0.8333333333333334.\u001b[0m\n",
      "\u001b[32m[I 2021-11-07 09:31:16,610]\u001b[0m Trial 70 finished with value: 0.8260869565217391 and parameters: {'classifier': 'RandomForest', 'n_estimators': 270, 'max_depth': 37.5297715275785}. Best is trial 2 with value: 0.8333333333333334.\u001b[0m\n",
      "\u001b[32m[I 2021-11-07 09:31:20,034]\u001b[0m Trial 71 finished with value: 0.8278985507246377 and parameters: {'classifier': 'RandomForest', 'n_estimators': 1570, 'max_depth': 18.626828115168376}. Best is trial 2 with value: 0.8333333333333334.\u001b[0m\n",
      "\u001b[32m[I 2021-11-07 09:31:21,379]\u001b[0m Trial 72 finished with value: 0.8278985507246377 and parameters: {'classifier': 'RandomForest', 'n_estimators': 670, 'max_depth': 63.88818475082016}. Best is trial 2 with value: 0.8333333333333334.\u001b[0m\n",
      "\u001b[32m[I 2021-11-07 09:31:22,477]\u001b[0m Trial 73 finished with value: 0.8315217391304347 and parameters: {'classifier': 'RandomForest', 'n_estimators': 560, 'max_depth': 15.51080296692247}. Best is trial 2 with value: 0.8333333333333334.\u001b[0m\n",
      "\u001b[32m[I 2021-11-07 09:31:25,477]\u001b[0m Trial 74 finished with value: 0.8297101449275363 and parameters: {'classifier': 'RandomForest', 'n_estimators': 1630, 'max_depth': 15.958600988317231}. Best is trial 2 with value: 0.8333333333333334.\u001b[0m\n",
      "\u001b[32m[I 2021-11-07 09:31:26,244]\u001b[0m Trial 75 finished with value: 0.8297101449275361 and parameters: {'classifier': 'RandomForest', 'n_estimators': 410, 'max_depth': 13.151300785570458}. Best is trial 2 with value: 0.8333333333333334.\u001b[0m\n",
      "\u001b[32m[I 2021-11-07 09:31:27,301]\u001b[0m Trial 76 finished with value: 0.8278985507246377 and parameters: {'classifier': 'RandomForest', 'n_estimators': 570, 'max_depth': 15.173434129944981}. Best is trial 2 with value: 0.8333333333333334.\u001b[0m\n",
      "\u001b[32m[I 2021-11-07 09:31:30,109]\u001b[0m Trial 77 finished with value: 0.8315217391304347 and parameters: {'classifier': 'RandomForest', 'n_estimators': 1400, 'max_depth': 19.160491396787872}. Best is trial 2 with value: 0.8333333333333334.\u001b[0m\n",
      "\u001b[32m[I 2021-11-07 09:31:34,083]\u001b[0m Trial 78 finished with value: 0.6666666666666666 and parameters: {'classifier': 'SVC', 'svc_c': 468992.38105353893}. Best is trial 2 with value: 0.8333333333333334.\u001b[0m\n",
      "\u001b[32m[I 2021-11-07 09:31:35,489]\u001b[0m Trial 79 finished with value: 0.8297101449275363 and parameters: {'classifier': 'RandomForest', 'n_estimators': 840, 'max_depth': 53.394121972305506}. Best is trial 2 with value: 0.8333333333333334.\u001b[0m\n",
      "\u001b[32m[I 2021-11-07 09:31:38,234]\u001b[0m Trial 80 finished with value: 0.8297101449275363 and parameters: {'classifier': 'RandomForest', 'n_estimators': 1510, 'max_depth': 17.109477054939006}. Best is trial 2 with value: 0.8333333333333334.\u001b[0m\n",
      "\u001b[32m[I 2021-11-07 09:31:39,945]\u001b[0m Trial 81 finished with value: 0.8297101449275363 and parameters: {'classifier': 'RandomForest', 'n_estimators': 920, 'max_depth': 88.50240076486648}. Best is trial 2 with value: 0.8333333333333334.\u001b[0m\n",
      "\u001b[32m[I 2021-11-07 09:31:42,294]\u001b[0m Trial 82 finished with value: 0.8297101449275363 and parameters: {'classifier': 'RandomForest', 'n_estimators': 1280, 'max_depth': 79.62151637806203}. Best is trial 2 with value: 0.8333333333333334.\u001b[0m\n",
      "\u001b[32m[I 2021-11-07 09:31:45,419]\u001b[0m Trial 83 finished with value: 0.8260869565217391 and parameters: {'classifier': 'RandomForest', 'n_estimators': 1600, 'max_depth': 26.31663375000657}. Best is trial 2 with value: 0.8333333333333334.\u001b[0m\n",
      "\u001b[32m[I 2021-11-07 09:31:46,564]\u001b[0m Trial 84 finished with value: 0.8297101449275363 and parameters: {'classifier': 'RandomForest', 'n_estimators': 540, 'max_depth': 21.089971930938066}. Best is trial 2 with value: 0.8333333333333334.\u001b[0m\n",
      "\u001b[32m[I 2021-11-07 09:31:47,802]\u001b[0m Trial 85 finished with value: 0.8278985507246377 and parameters: {'classifier': 'RandomForest', 'n_estimators': 630, 'max_depth': 68.11024128804594}. Best is trial 2 with value: 0.8333333333333334.\u001b[0m\n",
      "\u001b[32m[I 2021-11-07 09:31:49,807]\u001b[0m Trial 86 finished with value: 0.8297101449275363 and parameters: {'classifier': 'RandomForest', 'n_estimators': 1110, 'max_depth': 24.8691546041061}. Best is trial 2 with value: 0.8333333333333334.\u001b[0m\n",
      "\u001b[32m[I 2021-11-07 09:31:53,191]\u001b[0m Trial 87 finished with value: 0.8315217391304347 and parameters: {'classifier': 'RandomForest', 'n_estimators': 1730, 'max_depth': 50.600238805845}. Best is trial 2 with value: 0.8333333333333334.\u001b[0m\n",
      "\u001b[32m[I 2021-11-07 09:31:56,492]\u001b[0m Trial 88 finished with value: 0.8278985507246377 and parameters: {'classifier': 'RandomForest', 'n_estimators': 1720, 'max_depth': 32.42466501034598}. Best is trial 2 with value: 0.8333333333333334.\u001b[0m\n",
      "\u001b[32m[I 2021-11-07 09:31:56,550]\u001b[0m Trial 89 finished with value: 0.6630434782608695 and parameters: {'classifier': 'SVC', 'svc_c': 0.3330988285543686}. Best is trial 2 with value: 0.8333333333333334.\u001b[0m\n",
      "\u001b[32m[I 2021-11-07 09:31:57,892]\u001b[0m Trial 90 finished with value: 0.8315217391304347 and parameters: {'classifier': 'RandomForest', 'n_estimators': 710, 'max_depth': 20.212591024877735}. Best is trial 2 with value: 0.8333333333333334.\u001b[0m\n",
      "\u001b[32m[I 2021-11-07 09:32:00,871]\u001b[0m Trial 91 finished with value: 0.8297101449275363 and parameters: {'classifier': 'RandomForest', 'n_estimators': 1670, 'max_depth': 21.243509195938994}. Best is trial 2 with value: 0.8333333333333334.\u001b[0m\n",
      "\u001b[32m[I 2021-11-07 09:32:04,073]\u001b[0m Trial 92 finished with value: 0.8278985507246377 and parameters: {'classifier': 'RandomForest', 'n_estimators': 1760, 'max_depth': 23.137008687574756}. Best is trial 2 with value: 0.8333333333333334.\u001b[0m\n",
      "\u001b[32m[I 2021-11-07 09:32:06,611]\u001b[0m Trial 93 finished with value: 0.8278985507246377 and parameters: {'classifier': 'RandomForest', 'n_estimators': 1400, 'max_depth': 16.354519542971072}. Best is trial 2 with value: 0.8333333333333334.\u001b[0m\n",
      "\u001b[32m[I 2021-11-07 09:32:09,180]\u001b[0m Trial 94 finished with value: 0.8297101449275363 and parameters: {'classifier': 'RandomForest', 'n_estimators': 1470, 'max_depth': 18.714444844939404}. Best is trial 2 with value: 0.8333333333333334.\u001b[0m\n",
      "\u001b[32m[I 2021-11-07 09:32:10,046]\u001b[0m Trial 95 finished with value: 0.8278985507246377 and parameters: {'classifier': 'RandomForest', 'n_estimators': 450, 'max_depth': 29.424505853054555}. Best is trial 2 with value: 0.8333333333333334.\u001b[0m\n",
      "\u001b[32m[I 2021-11-07 09:32:12,731]\u001b[0m Trial 96 finished with value: 0.8278985507246377 and parameters: {'classifier': 'RandomForest', 'n_estimators': 1380, 'max_depth': 60.46932503253937}. Best is trial 2 with value: 0.8333333333333334.\u001b[0m\n",
      "\u001b[32m[I 2021-11-07 09:32:13,126]\u001b[0m Trial 97 finished with value: 0.8333333333333334 and parameters: {'classifier': 'RandomForest', 'n_estimators': 200, 'max_depth': 48.39228880811326}. Best is trial 2 with value: 0.8333333333333334.\u001b[0m\n",
      "\u001b[32m[I 2021-11-07 09:32:13,561]\u001b[0m Trial 98 finished with value: 0.8297101449275361 and parameters: {'classifier': 'RandomForest', 'n_estimators': 230, 'max_depth': 19.640305349935645}. Best is trial 2 with value: 0.8333333333333334.\u001b[0m\n",
      "\u001b[32m[I 2021-11-07 09:32:14,122]\u001b[0m Trial 99 finished with value: 0.8278985507246377 and parameters: {'classifier': 'RandomForest', 'n_estimators': 300, 'max_depth': 56.07692382045232}. Best is trial 2 with value: 0.8333333333333334.\u001b[0m\n"
     ]
    },
    {
     "name": "stdout",
     "output_type": "stream",
     "text": [
      "Accuracy: 0.8333333333333334\n",
      "Best hyperparameters: {'classifier': 'RandomForest', 'n_estimators': 700, 'max_depth': 66.28649973761492}\n"
     ]
    }
   ],
   "source": [
    "study = optuna.create_study(direction='maximize')\n",
    "study.optimize(objective, n_trials=100)\n",
    "\n",
    "trial = study.best_trial\n",
    "\n",
    "print('Accuracy: {}'.format(trial.value))\n",
    "print(\"Best hyperparameters: {}\".format(trial.params))"
   ]
  },
  {
   "cell_type": "code",
   "execution_count": 32,
   "metadata": {},
   "outputs": [
    {
     "data": {
      "text/plain": [
       "FrozenTrial(number=2, values=[0.8333333333333334], datetime_start=datetime.datetime(2021, 11, 7, 9, 22, 3, 754986), datetime_complete=datetime.datetime(2021, 11, 7, 9, 22, 6, 331670), params={'classifier': 'RandomForest', 'n_estimators': 700, 'max_depth': 66.28649973761492}, distributions={'classifier': CategoricalDistribution(choices=('RandomForest', 'SVC')), 'n_estimators': IntUniformDistribution(high=2000, low=200, step=10), 'max_depth': LogUniformDistribution(high=100.0, low=10.0)}, user_attrs={}, system_attrs={}, intermediate_values={}, trial_id=2, state=TrialState.COMPLETE, value=None)"
      ]
     },
     "execution_count": 32,
     "metadata": {},
     "output_type": "execute_result"
    }
   ],
   "source": [
    "trial"
   ]
  },
  {
   "cell_type": "code",
   "execution_count": 33,
   "metadata": {},
   "outputs": [
    {
     "data": {
      "text/plain": [
       "{'classifier': 'RandomForest',\n",
       " 'n_estimators': 700,\n",
       " 'max_depth': 66.28649973761492}"
      ]
     },
     "execution_count": 33,
     "metadata": {},
     "output_type": "execute_result"
    }
   ],
   "source": [
    "study.best_params"
   ]
  },
  {
   "cell_type": "code",
   "execution_count": 38,
   "metadata": {},
   "outputs": [
    {
     "data": {
      "text/plain": [
       "RandomForestClassifier(max_depth=66.28649973761492, n_estimators=700)"
      ]
     },
     "execution_count": 38,
     "metadata": {},
     "output_type": "execute_result"
    }
   ],
   "source": [
    "rf=RandomForestClassifier(n_estimators=study.best_params['n_estimators'],max_depth=study.best_params['max_depth'])\n",
    "rf.fit(X_train,y_train)"
   ]
  },
  {
   "cell_type": "code",
   "execution_count": 39,
   "metadata": {},
   "outputs": [
    {
     "name": "stdout",
     "output_type": "stream",
     "text": [
      "[[66 12]\n",
      " [14 46]]\n",
      "0.8115942028985508\n",
      "              precision    recall  f1-score   support\n",
      "\n",
      "           0       0.82      0.85      0.84        78\n",
      "           1       0.79      0.77      0.78        60\n",
      "\n",
      "    accuracy                           0.81       138\n",
      "   macro avg       0.81      0.81      0.81       138\n",
      "weighted avg       0.81      0.81      0.81       138\n",
      "\n"
     ]
    }
   ],
   "source": [
    "y_pred=rf.predict(X_test)\n",
    "print(confusion_matrix(y_test,y_pred))\n",
    "print(accuracy_score(y_test,y_pred))\n",
    "print(classification_report(y_test,y_pred))"
   ]
  },
  {
   "cell_type": "code",
   "execution_count": 40,
   "metadata": {},
   "outputs": [],
   "source": [
    "import pickle\n",
    "# save the model to disk\n",
    "filename = 'finalized_model_RF.sav'\n",
    "pickle.dump(rf_randomcv, open(filename, 'wb'))"
   ]
  }
 ],
 "metadata": {
  "kernelspec": {
   "display_name": "Python 3",
   "language": "python",
   "name": "python3"
  },
  "language_info": {
   "codemirror_mode": {
    "name": "ipython",
    "version": 3
   },
   "file_extension": ".py",
   "mimetype": "text/x-python",
   "name": "python",
   "nbconvert_exporter": "python",
   "pygments_lexer": "ipython3",
   "version": "3.7.7"
  }
 },
 "nbformat": 4,
 "nbformat_minor": 4
}
