{
 "cells": [
  {
   "cell_type": "code",
   "execution_count": 1,
   "id": "fcc35ea9",
   "metadata": {},
   "outputs": [],
   "source": [
    "import pickle\r\n",
    "models = []\r\n",
    "models.append(pickle.load(open('finalized_model_nb.sav','rb')))\r\n",
    "models.append(pickle.load(open('finalized_model_knn.sav','rb')))\r\n",
    "models.append(pickle.load(open('finalized_model_DT.sav','rb')))\r\n",
    "models.append(pickle.load(open('finalized_model_RF.sav','rb')))\r\n",
    "models.append(pickle.load(open('finalized_model_xgb.sav','rb')))"
   ]
  },
  {
   "cell_type": "code",
   "execution_count": 2,
   "id": "5d98872b",
   "metadata": {},
   "outputs": [],
   "source": [
    "import numpy as np\r\n",
    "from sklearn.preprocessing import StandardScaler\r\n",
    "scaler = StandardScaler()"
   ]
  },
  {
   "cell_type": "code",
   "execution_count": 3,
   "id": "1fa79db7",
   "metadata": {},
   "outputs": [],
   "source": [
    "feat = np.array([[0,1.25,0,322]])"
   ]
  },
  {
   "cell_type": "code",
   "execution_count": 4,
   "id": "303435bd",
   "metadata": {},
   "outputs": [],
   "source": [
    "preds = []\r\n",
    "for model in models:\r\n",
    "    preds.append(model.predict(feat))"
   ]
  },
  {
   "cell_type": "code",
   "execution_count": 5,
   "id": "b103f042",
   "metadata": {},
   "outputs": [
    {
     "data": {
      "text/plain": [
       "[array([1], dtype=int64),\n",
       " array([1], dtype=int64),\n",
       " array([0], dtype=int64),\n",
       " array([0], dtype=int64),\n",
       " array([0], dtype=int64)]"
      ]
     },
     "execution_count": 5,
     "metadata": {},
     "output_type": "execute_result"
    }
   ],
   "source": [
    "preds"
   ]
  },
  {
   "cell_type": "code",
   "execution_count": 6,
   "id": "1bbbc0f5",
   "metadata": {},
   "outputs": [
    {
     "name": "stdout",
     "output_type": "stream",
     "text": [
      "GaussianNB()\n",
      "KNeighborsClassifier(n_neighbors=3)\n",
      "RandomizedSearchCV(cv=5, estimator=DecisionTreeClassifier(), n_iter=100,\n",
      "                   n_jobs=1,\n",
      "                   param_distributions={'max_depth': [3, 4, 5, 6, 8, 10, 12,\n",
      "                                                      15],\n",
      "                                        'max_features': ['auto', 'log2', 'sqrt',\n",
      "                                                         None],\n",
      "                                        'max_leaf_nodes': [None, 10, 20, 30, 40,\n",
      "                                                           50, 60, 70],\n",
      "                                        'min_samples_leaf': [1, 2, 3, 4, 5],\n",
      "                                        'min_weight_fraction_leaf': [0.1, 0.2,\n",
      "                                                                     0.3, 0.4],\n",
      "                                        'splitter': ['best', 'random']},\n",
      "                   random_state=10, verbose=2)\n",
      "RandomizedSearchCV(cv=3, estimator=RandomForestClassifier(), n_iter=100,\n",
      "                   n_jobs=-1,\n",
      "                   param_distributions={'criterion': ['entropy', 'gini'],\n",
      "                                        'max_depth': [10, 120, 230, 340, 450,\n",
      "                                                      560, 670, 780, 890,\n",
      "                                                      1000],\n",
      "                                        'max_features': ['auto', 'sqrt',\n",
      "                                                         'log2'],\n",
      "                                        'min_samples_leaf': [1, 2, 4, 6, 8],\n",
      "                                        'min_samples_split': [2, 5, 10, 14],\n",
      "                                        'n_estimators': [200, 400, 600, 800,\n",
      "                                                         1000, 1200, 1400, 1600,\n",
      "                                                         1800, 2000]},\n",
      "                   random_state=100, verbose=2)\n",
      "RandomizedSearchCV(cv=5,\n",
      "                   estimator=XGBClassifier(base_score=None, booster=None,\n",
      "                                           colsample_bylevel=None,\n",
      "                                           colsample_bynode=None,\n",
      "                                           colsample_bytree=None, gamma=None,\n",
      "                                           gpu_id=None, importance_type='gain',\n",
      "                                           interaction_constraints=None,\n",
      "                                           learning_rate=None,\n",
      "                                           max_delta_step=None, max_depth=None,\n",
      "                                           min_child_weight=None, missing=nan,\n",
      "                                           monotone_constraints=None,\n",
      "                                           n_estimators=100,...\n",
      "                                           subsample=None, tree_method=None,\n",
      "                                           validate_parameters=None,\n",
      "                                           verbosity=None),\n",
      "                   n_iter=100, n_jobs=1,\n",
      "                   param_distributions={'learning_rate': ['0.05', '0.1', '0.2',\n",
      "                                                          '0.3', '0.5', '0.6'],\n",
      "                                        'max_depth': [5, 10, 15, 20, 25, 30],\n",
      "                                        'min_child_weight': [3, 4, 5, 6, 7],\n",
      "                                        'n_estimators': [100, 200, 300, 400,\n",
      "                                                         500, 600, 700, 800,\n",
      "                                                         900, 1000, 1100,\n",
      "                                                         1200],\n",
      "                                        'subsample': [0.7, 0.6, 0.8]},\n",
      "                   random_state=42, scoring='roc_auc', verbose=2)\n"
     ]
    }
   ],
   "source": [
    "for model in models:\n",
    "    print(model)"
   ]
  },
  {
   "cell_type": "code",
   "execution_count": 7,
   "id": "14a5523f",
   "metadata": {},
   "outputs": [],
   "source": [
    "def predict(feat,scaled_feat):\r\n",
    "    preds = []\r\n",
    "    i=0\r\n",
    "    for model in models:\r\n",
    "        if i<2:\r\n",
    "            preds.append(model.predict(scaled_feat))\r\n",
    "        else:\r\n",
    "            preds.append(model.predict(feat))\r\n",
    "        i+=1\r\n",
    "    o = preds.count(1)\r\n",
    "    z = preds.count(0)\r\n",
    "    if(o>z):\r\n",
    "        return 1\r\n",
    "    else:\r\n",
    "        return 0"
   ]
  },
  {
   "cell_type": "code",
   "execution_count": 8,
   "id": "9ecd606e",
   "metadata": {},
   "outputs": [],
   "source": [
    "import pandas as pd\r\n",
    "df = pd.read_csv(\"feature_selection.csv\")"
   ]
  },
  {
   "cell_type": "code",
   "execution_count": 9,
   "id": "0319cfba",
   "metadata": {},
   "outputs": [],
   "source": [
    "X = df.drop(['Approved'],axis=1)\r\n",
    "scaled_features = scaler.fit_transform(df.drop('Approved',axis=1))\r\n",
    "y = df['Approved']"
   ]
  },
  {
   "cell_type": "code",
   "execution_count": 10,
   "id": "67042b9e",
   "metadata": {},
   "outputs": [
    {
     "data": {
      "text/html": [
       "<div>\n",
       "<style scoped>\n",
       "    .dataframe tbody tr th:only-of-type {\n",
       "        vertical-align: middle;\n",
       "    }\n",
       "\n",
       "    .dataframe tbody tr th {\n",
       "        vertical-align: top;\n",
       "    }\n",
       "\n",
       "    .dataframe thead th {\n",
       "        text-align: right;\n",
       "    }\n",
       "</style>\n",
       "<table border=\"1\" class=\"dataframe\">\n",
       "  <thead>\n",
       "    <tr style=\"text-align: right;\">\n",
       "      <th></th>\n",
       "      <th>PriorDefault_t</th>\n",
       "      <th>YearsEmployed</th>\n",
       "      <th>CreditScore</th>\n",
       "      <th>Income</th>\n",
       "    </tr>\n",
       "  </thead>\n",
       "  <tbody>\n",
       "    <tr>\n",
       "      <th>0</th>\n",
       "      <td>0.95465</td>\n",
       "      <td>-0.300502</td>\n",
       "      <td>-0.324711</td>\n",
       "      <td>-0.288910</td>\n",
       "    </tr>\n",
       "    <tr>\n",
       "      <th>1</th>\n",
       "      <td>0.95465</td>\n",
       "      <td>0.379591</td>\n",
       "      <td>1.079116</td>\n",
       "      <td>0.211684</td>\n",
       "    </tr>\n",
       "    <tr>\n",
       "      <th>2</th>\n",
       "      <td>0.95465</td>\n",
       "      <td>-0.205517</td>\n",
       "      <td>-0.605477</td>\n",
       "      <td>0.766248</td>\n",
       "    </tr>\n",
       "    <tr>\n",
       "      <th>3</th>\n",
       "      <td>0.95465</td>\n",
       "      <td>0.649348</td>\n",
       "      <td>0.798351</td>\n",
       "      <td>-0.958363</td>\n",
       "    </tr>\n",
       "    <tr>\n",
       "      <th>4</th>\n",
       "      <td>0.95465</td>\n",
       "      <td>-0.125730</td>\n",
       "      <td>-0.605477</td>\n",
       "      <td>-0.288910</td>\n",
       "    </tr>\n",
       "  </tbody>\n",
       "</table>\n",
       "</div>"
      ],
      "text/plain": [
       "   PriorDefault_t  YearsEmployed  CreditScore    Income\n",
       "0         0.95465      -0.300502    -0.324711 -0.288910\n",
       "1         0.95465       0.379591     1.079116  0.211684\n",
       "2         0.95465      -0.205517    -0.605477  0.766248\n",
       "3         0.95465       0.649348     0.798351 -0.958363\n",
       "4         0.95465      -0.125730    -0.605477 -0.288910"
      ]
     },
     "execution_count": 10,
     "metadata": {},
     "output_type": "execute_result"
    }
   ],
   "source": [
    "df_feat = pd.DataFrame(scaled_features,columns=df.columns[:-1])\r\n",
    "df_feat.head()"
   ]
  },
  {
   "cell_type": "code",
   "execution_count": 11,
   "id": "0ebd700a",
   "metadata": {},
   "outputs": [
    {
     "name": "stdout",
     "output_type": "stream",
     "text": [
      "690\n"
     ]
    }
   ],
   "source": [
    "pred = []\r\n",
    "print(X.shape[0])\r\n",
    "for i in range(X.shape[0]):\r\n",
    "    feat = np.array([X.iloc[i].values])\r\n",
    "    scaled_feat = np.array([df_feat.iloc[i].values])\r\n",
    "    pred.append(predict(feat,scaled_feat))"
   ]
  },
  {
   "cell_type": "code",
   "execution_count": 12,
   "id": "136ecdd5",
   "metadata": {},
   "outputs": [],
   "source": [
    "from sklearn.metrics import confusion_matrix,classification_report,accuracy_score,roc_curve, roc_auc_score"
   ]
  },
  {
   "cell_type": "code",
   "execution_count": 13,
   "id": "90f3ce6a",
   "metadata": {},
   "outputs": [
    {
     "data": {
      "text/plain": [
       "0.8724637681159421"
      ]
     },
     "execution_count": 13,
     "metadata": {},
     "output_type": "execute_result"
    }
   ],
   "source": [
    "accuracy_score(y,np.array(pred))"
   ]
  },
  {
   "cell_type": "code",
   "execution_count": 14,
   "id": "b7c6cacd",
   "metadata": {},
   "outputs": [
    {
     "data": {
      "text/plain": [
       "array([[331,  52],\n",
       "       [ 36, 271]], dtype=int64)"
      ]
     },
     "execution_count": 14,
     "metadata": {},
     "output_type": "execute_result"
    }
   ],
   "source": [
    "confusion_matrix(y,np.array(pred))"
   ]
  },
  {
   "cell_type": "code",
   "execution_count": 15,
   "id": "2372fd77",
   "metadata": {},
   "outputs": [
    {
     "name": "stdout",
     "output_type": "stream",
     "text": [
      "              precision    recall  f1-score   support\n",
      "\n",
      "           0       0.90      0.86      0.88       383\n",
      "           1       0.84      0.88      0.86       307\n",
      "\n",
      "    accuracy                           0.87       690\n",
      "   macro avg       0.87      0.87      0.87       690\n",
      "weighted avg       0.87      0.87      0.87       690\n",
      "\n"
     ]
    }
   ],
   "source": [
    "print(classification_report(y,np.array(pred)))"
   ]
  },
  {
   "cell_type": "code",
   "execution_count": 16,
   "id": "b93ffe25",
   "metadata": {},
   "outputs": [],
   "source": [
    "model = pickle.load(open('finalized_model_knn.sav','rb'))"
   ]
  },
  {
   "cell_type": "code",
   "execution_count": 17,
   "id": "d9e4709a",
   "metadata": {},
   "outputs": [],
   "source": [
    "pred=[]\n",
    "for i in range(X.shape[0]):\n",
    "    scaled_feat = np.array([df_feat.iloc[i].values])\n",
    "    pred.append(model.predict(scaled_feat))"
   ]
  },
  {
   "cell_type": "code",
   "execution_count": 18,
   "id": "2b897e55",
   "metadata": {},
   "outputs": [
    {
     "data": {
      "text/plain": [
       "0.8826086956521739"
      ]
     },
     "execution_count": 18,
     "metadata": {},
     "output_type": "execute_result"
    }
   ],
   "source": [
    "accuracy_score(y,np.array(pred))"
   ]
  },
  {
   "cell_type": "code",
   "execution_count": 19,
   "id": "db211155",
   "metadata": {},
   "outputs": [
    {
     "data": {
      "text/plain": [
       "array([[351,  32],\n",
       "       [ 49, 258]], dtype=int64)"
      ]
     },
     "execution_count": 19,
     "metadata": {},
     "output_type": "execute_result"
    }
   ],
   "source": [
    "confusion_matrix(y,np.array(pred))"
   ]
  },
  {
   "cell_type": "code",
   "execution_count": 20,
   "id": "729c108a",
   "metadata": {},
   "outputs": [
    {
     "name": "stdout",
     "output_type": "stream",
     "text": [
      "              precision    recall  f1-score   support\n",
      "\n",
      "           0       0.88      0.92      0.90       383\n",
      "           1       0.89      0.84      0.86       307\n",
      "\n",
      "    accuracy                           0.88       690\n",
      "   macro avg       0.88      0.88      0.88       690\n",
      "weighted avg       0.88      0.88      0.88       690\n",
      "\n"
     ]
    }
   ],
   "source": [
    "print(classification_report(y,np.array(pred)))"
   ]
  },
  {
   "cell_type": "code",
   "execution_count": 21,
   "id": "cbad123a",
   "metadata": {},
   "outputs": [],
   "source": [
    "TN, FP, FN, TP = confusion_matrix(y, pred).ravel()"
   ]
  },
  {
   "cell_type": "code",
   "execution_count": 22,
   "id": "b9830e1f",
   "metadata": {},
   "outputs": [
    {
     "data": {
      "text/plain": [
       "0.9164490861618799"
      ]
     },
     "execution_count": 22,
     "metadata": {},
     "output_type": "execute_result"
    }
   ],
   "source": [
    "specificity = TN / (TN+FP)\n",
    "specificity"
   ]
  },
  {
   "cell_type": "code",
   "execution_count": 23,
   "id": "c90ac4f8",
   "metadata": {},
   "outputs": [
    {
     "data": {
      "text/plain": [
       "0.8403908794788274"
      ]
     },
     "execution_count": 23,
     "metadata": {},
     "output_type": "execute_result"
    }
   ],
   "source": [
    "recall = TP / (TP+FN)\n",
    "recall"
   ]
  },
  {
   "cell_type": "code",
   "execution_count": 24,
   "id": "c179c6d9",
   "metadata": {},
   "outputs": [
    {
     "data": {
      "text/plain": [
       "0.8896551724137931"
      ]
     },
     "execution_count": 24,
     "metadata": {},
     "output_type": "execute_result"
    }
   ],
   "source": [
    "precision = TP/(TP+FP)\n",
    "precision"
   ]
  },
  {
   "cell_type": "code",
   "execution_count": 25,
   "id": "7a19a7ca",
   "metadata": {},
   "outputs": [
    {
     "data": {
      "text/plain": [
       "0.864321608040201"
      ]
     },
     "execution_count": 25,
     "metadata": {},
     "output_type": "execute_result"
    }
   ],
   "source": [
    "f1score = (2*precision*recall)/(precision+recall)\n",
    "f1score"
   ]
  },
  {
   "cell_type": "markdown",
   "id": "64caea32",
   "metadata": {},
   "source": [
    "# Therefore KNN with 3 neighbours has given best accuracy than bag of models."
   ]
  }
 ],
 "metadata": {
  "interpreter": {
   "hash": "b3ba2566441a7c06988d0923437866b63cedc61552a5af99d1f4fb67d367b25f"
  },
  "kernelspec": {
   "display_name": "Python 3",
   "language": "python",
   "name": "python3"
  },
  "language_info": {
   "codemirror_mode": {
    "name": "ipython",
    "version": 3
   },
   "file_extension": ".py",
   "mimetype": "text/x-python",
   "name": "python",
   "nbconvert_exporter": "python",
   "pygments_lexer": "ipython3",
   "version": "3.7.7"
  }
 },
 "nbformat": 4,
 "nbformat_minor": 5
}
